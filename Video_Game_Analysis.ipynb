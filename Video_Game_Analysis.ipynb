{
 "cells": [
  {
   "cell_type": "markdown",
   "metadata": {},
   "source": [
    "# Ice Game Sales Analysis\n",
    "\n",
    "\n",
    "We work for the online store Ice, which sells video games all over the world. User and expert reviews, genres, platforms (e.g. Xbox or PlayStation), and historical data on game sales are available from open sources. We will need to identify patterns that determine whether a game succeeds or not. This will allow you to spot potential big winners and plan advertising campaigns.\n",
    "\n",
    "\n",
    "We are planning for 2017 sales in order to make predictions on what games and platforms will be the most advantageous to focus on.\n",
    "\n",
    "\n",
    "The dataset contains the abbreviation ESRB. The Entertainment Software Rating Board evaluates a game's content and assigns an age rating such as Teen or Mature."
   ]
  },
  {
   "cell_type": "markdown",
   "metadata": {},
   "source": [
    "### Goal: \n",
    "Test our hypotheses:\n",
    "- There will not be a significant difference in genre, platform, and rating preferences between regions\n",
    "- Average user scores of the Xbox One and PC platforms are the same.\n",
    "- Average user scores for the Action and Sports genres are different.\n",
    "- - - - \n",
    "\n",
    "&emsp;We believe that the market as a whole will not vary based on region, and believe that the international sales will be the same as regional. We will seek to answer the questions of what causes differences in sales between platforms and genres if there are any differences.\n",
    "\n",
    "### Stages \n",
    "Our project will consist of six stages:\n",
    " 1. Data overview\n",
    " 2. Preparing the Data \n",
    "     -Fixing Data\n",
    "     -Enriching Data\n",
    " 3. Analyzing Data\n",
    " 4. Determining Differences Across Regions\n",
    " 5. Testing statistical hypotheses\n",
    " 6. Conclusion"
   ]
  },
  {
   "cell_type": "markdown",
   "metadata": {},
   "source": [
    "## Initialization\n",
    "\n",
    "First we will begin by importing all necessary libraries."
   ]
  },
  {
   "cell_type": "code",
   "execution_count": 1,
   "metadata": {},
   "outputs": [],
   "source": [
    "import pandas as pd# Loading all the libraries\n",
    "import numpy as np\n",
    "import math as mt\n",
    "from matplotlib import pyplot as plt\n",
    "from math import factorial\n",
    "from scipy.stats import norm\n",
    "from scipy import stats as st"
   ]
  },
  {
   "cell_type": "markdown",
   "metadata": {},
   "source": [
    "### Loading in the Data\n",
    "\n",
    "Now we will add our data into a dataframe."
   ]
  },
  {
   "cell_type": "code",
   "execution_count": 2,
   "metadata": {},
   "outputs": [],
   "source": [
    "#loading in data with try/except\n",
    "try:\n",
    "    games= pd.read_csv('/datasets/games.csv')\n",
    "except:\n",
    "    print('File not found.')"
   ]
  },
  {
   "cell_type": "markdown",
   "metadata": {},
   "source": [
    "## Preparing the Data\n",
    "\n",
    "Now we will take a closer look at our data, and see if there is anything that needs to altered or added to."
   ]
  },
  {
   "cell_type": "markdown",
   "metadata": {},
   "source": [
    "### Viewing General Information"
   ]
  },
  {
   "cell_type": "code",
   "execution_count": 3,
   "metadata": {},
   "outputs": [
    {
     "name": "stdout",
     "output_type": "stream",
     "text": [
      "<class 'pandas.core.frame.DataFrame'>\n",
      "RangeIndex: 16715 entries, 0 to 16714\n",
      "Data columns (total 11 columns):\n",
      "Name               16713 non-null object\n",
      "Platform           16715 non-null object\n",
      "Year_of_Release    16446 non-null float64\n",
      "Genre              16713 non-null object\n",
      "NA_sales           16715 non-null float64\n",
      "EU_sales           16715 non-null float64\n",
      "JP_sales           16715 non-null float64\n",
      "Other_sales        16715 non-null float64\n",
      "Critic_Score       8137 non-null float64\n",
      "User_Score         10014 non-null object\n",
      "Rating             9949 non-null object\n",
      "dtypes: float64(6), object(5)\n",
      "memory usage: 1.4+ MB\n"
     ]
    }
   ],
   "source": [
    "games.info() #printing general information"
   ]
  },
  {
   "cell_type": "code",
   "execution_count": 4,
   "metadata": {},
   "outputs": [
    {
     "data": {
      "text/html": [
       "<div>\n",
       "<style scoped>\n",
       "    .dataframe tbody tr th:only-of-type {\n",
       "        vertical-align: middle;\n",
       "    }\n",
       "\n",
       "    .dataframe tbody tr th {\n",
       "        vertical-align: top;\n",
       "    }\n",
       "\n",
       "    .dataframe thead th {\n",
       "        text-align: right;\n",
       "    }\n",
       "</style>\n",
       "<table border=\"1\" class=\"dataframe\">\n",
       "  <thead>\n",
       "    <tr style=\"text-align: right;\">\n",
       "      <th></th>\n",
       "      <th>Name</th>\n",
       "      <th>Platform</th>\n",
       "      <th>Year_of_Release</th>\n",
       "      <th>Genre</th>\n",
       "      <th>NA_sales</th>\n",
       "      <th>EU_sales</th>\n",
       "      <th>JP_sales</th>\n",
       "      <th>Other_sales</th>\n",
       "      <th>Critic_Score</th>\n",
       "      <th>User_Score</th>\n",
       "      <th>Rating</th>\n",
       "    </tr>\n",
       "  </thead>\n",
       "  <tbody>\n",
       "    <tr>\n",
       "      <td>count</td>\n",
       "      <td>16713</td>\n",
       "      <td>16715</td>\n",
       "      <td>16446.000000</td>\n",
       "      <td>16713</td>\n",
       "      <td>16715.000000</td>\n",
       "      <td>16715.000000</td>\n",
       "      <td>16715.000000</td>\n",
       "      <td>16715.000000</td>\n",
       "      <td>8137.000000</td>\n",
       "      <td>10014</td>\n",
       "      <td>9949</td>\n",
       "    </tr>\n",
       "    <tr>\n",
       "      <td>unique</td>\n",
       "      <td>11559</td>\n",
       "      <td>31</td>\n",
       "      <td>NaN</td>\n",
       "      <td>12</td>\n",
       "      <td>NaN</td>\n",
       "      <td>NaN</td>\n",
       "      <td>NaN</td>\n",
       "      <td>NaN</td>\n",
       "      <td>NaN</td>\n",
       "      <td>96</td>\n",
       "      <td>8</td>\n",
       "    </tr>\n",
       "    <tr>\n",
       "      <td>top</td>\n",
       "      <td>Need for Speed: Most Wanted</td>\n",
       "      <td>PS2</td>\n",
       "      <td>NaN</td>\n",
       "      <td>Action</td>\n",
       "      <td>NaN</td>\n",
       "      <td>NaN</td>\n",
       "      <td>NaN</td>\n",
       "      <td>NaN</td>\n",
       "      <td>NaN</td>\n",
       "      <td>tbd</td>\n",
       "      <td>E</td>\n",
       "    </tr>\n",
       "    <tr>\n",
       "      <td>freq</td>\n",
       "      <td>12</td>\n",
       "      <td>2161</td>\n",
       "      <td>NaN</td>\n",
       "      <td>3369</td>\n",
       "      <td>NaN</td>\n",
       "      <td>NaN</td>\n",
       "      <td>NaN</td>\n",
       "      <td>NaN</td>\n",
       "      <td>NaN</td>\n",
       "      <td>2424</td>\n",
       "      <td>3990</td>\n",
       "    </tr>\n",
       "    <tr>\n",
       "      <td>mean</td>\n",
       "      <td>NaN</td>\n",
       "      <td>NaN</td>\n",
       "      <td>2006.484616</td>\n",
       "      <td>NaN</td>\n",
       "      <td>0.263377</td>\n",
       "      <td>0.145060</td>\n",
       "      <td>0.077617</td>\n",
       "      <td>0.047342</td>\n",
       "      <td>68.967679</td>\n",
       "      <td>NaN</td>\n",
       "      <td>NaN</td>\n",
       "    </tr>\n",
       "    <tr>\n",
       "      <td>std</td>\n",
       "      <td>NaN</td>\n",
       "      <td>NaN</td>\n",
       "      <td>5.877050</td>\n",
       "      <td>NaN</td>\n",
       "      <td>0.813604</td>\n",
       "      <td>0.503339</td>\n",
       "      <td>0.308853</td>\n",
       "      <td>0.186731</td>\n",
       "      <td>13.938165</td>\n",
       "      <td>NaN</td>\n",
       "      <td>NaN</td>\n",
       "    </tr>\n",
       "    <tr>\n",
       "      <td>min</td>\n",
       "      <td>NaN</td>\n",
       "      <td>NaN</td>\n",
       "      <td>1980.000000</td>\n",
       "      <td>NaN</td>\n",
       "      <td>0.000000</td>\n",
       "      <td>0.000000</td>\n",
       "      <td>0.000000</td>\n",
       "      <td>0.000000</td>\n",
       "      <td>13.000000</td>\n",
       "      <td>NaN</td>\n",
       "      <td>NaN</td>\n",
       "    </tr>\n",
       "    <tr>\n",
       "      <td>25%</td>\n",
       "      <td>NaN</td>\n",
       "      <td>NaN</td>\n",
       "      <td>2003.000000</td>\n",
       "      <td>NaN</td>\n",
       "      <td>0.000000</td>\n",
       "      <td>0.000000</td>\n",
       "      <td>0.000000</td>\n",
       "      <td>0.000000</td>\n",
       "      <td>60.000000</td>\n",
       "      <td>NaN</td>\n",
       "      <td>NaN</td>\n",
       "    </tr>\n",
       "    <tr>\n",
       "      <td>50%</td>\n",
       "      <td>NaN</td>\n",
       "      <td>NaN</td>\n",
       "      <td>2007.000000</td>\n",
       "      <td>NaN</td>\n",
       "      <td>0.080000</td>\n",
       "      <td>0.020000</td>\n",
       "      <td>0.000000</td>\n",
       "      <td>0.010000</td>\n",
       "      <td>71.000000</td>\n",
       "      <td>NaN</td>\n",
       "      <td>NaN</td>\n",
       "    </tr>\n",
       "    <tr>\n",
       "      <td>75%</td>\n",
       "      <td>NaN</td>\n",
       "      <td>NaN</td>\n",
       "      <td>2010.000000</td>\n",
       "      <td>NaN</td>\n",
       "      <td>0.240000</td>\n",
       "      <td>0.110000</td>\n",
       "      <td>0.040000</td>\n",
       "      <td>0.030000</td>\n",
       "      <td>79.000000</td>\n",
       "      <td>NaN</td>\n",
       "      <td>NaN</td>\n",
       "    </tr>\n",
       "    <tr>\n",
       "      <td>max</td>\n",
       "      <td>NaN</td>\n",
       "      <td>NaN</td>\n",
       "      <td>2016.000000</td>\n",
       "      <td>NaN</td>\n",
       "      <td>41.360000</td>\n",
       "      <td>28.960000</td>\n",
       "      <td>10.220000</td>\n",
       "      <td>10.570000</td>\n",
       "      <td>98.000000</td>\n",
       "      <td>NaN</td>\n",
       "      <td>NaN</td>\n",
       "    </tr>\n",
       "  </tbody>\n",
       "</table>\n",
       "</div>"
      ],
      "text/plain": [
       "                               Name Platform  Year_of_Release   Genre  \\\n",
       "count                         16713    16715     16446.000000   16713   \n",
       "unique                        11559       31              NaN      12   \n",
       "top     Need for Speed: Most Wanted      PS2              NaN  Action   \n",
       "freq                             12     2161              NaN    3369   \n",
       "mean                            NaN      NaN      2006.484616     NaN   \n",
       "std                             NaN      NaN         5.877050     NaN   \n",
       "min                             NaN      NaN      1980.000000     NaN   \n",
       "25%                             NaN      NaN      2003.000000     NaN   \n",
       "50%                             NaN      NaN      2007.000000     NaN   \n",
       "75%                             NaN      NaN      2010.000000     NaN   \n",
       "max                             NaN      NaN      2016.000000     NaN   \n",
       "\n",
       "            NA_sales      EU_sales      JP_sales   Other_sales  Critic_Score  \\\n",
       "count   16715.000000  16715.000000  16715.000000  16715.000000   8137.000000   \n",
       "unique           NaN           NaN           NaN           NaN           NaN   \n",
       "top              NaN           NaN           NaN           NaN           NaN   \n",
       "freq             NaN           NaN           NaN           NaN           NaN   \n",
       "mean        0.263377      0.145060      0.077617      0.047342     68.967679   \n",
       "std         0.813604      0.503339      0.308853      0.186731     13.938165   \n",
       "min         0.000000      0.000000      0.000000      0.000000     13.000000   \n",
       "25%         0.000000      0.000000      0.000000      0.000000     60.000000   \n",
       "50%         0.080000      0.020000      0.000000      0.010000     71.000000   \n",
       "75%         0.240000      0.110000      0.040000      0.030000     79.000000   \n",
       "max        41.360000     28.960000     10.220000     10.570000     98.000000   \n",
       "\n",
       "       User_Score Rating  \n",
       "count       10014   9949  \n",
       "unique         96      8  \n",
       "top           tbd      E  \n",
       "freq         2424   3990  \n",
       "mean          NaN    NaN  \n",
       "std           NaN    NaN  \n",
       "min           NaN    NaN  \n",
       "25%           NaN    NaN  \n",
       "50%           NaN    NaN  \n",
       "75%           NaN    NaN  \n",
       "max           NaN    NaN  "
      ]
     },
     "execution_count": 4,
     "metadata": {},
     "output_type": "execute_result"
    }
   ],
   "source": [
    "games.describe(include = 'all') #viewing general description for all"
   ]
  },
  {
   "cell_type": "code",
   "execution_count": 5,
   "metadata": {},
   "outputs": [
    {
     "data": {
      "text/plain": [
       "Name                object\n",
       "Platform            object\n",
       "Year_of_Release    float64\n",
       "Genre               object\n",
       "NA_sales           float64\n",
       "EU_sales           float64\n",
       "JP_sales           float64\n",
       "Other_sales        float64\n",
       "Critic_Score       float64\n",
       "User_Score          object\n",
       "Rating              object\n",
       "dtype: object"
      ]
     },
     "execution_count": 5,
     "metadata": {},
     "output_type": "execute_result"
    }
   ],
   "source": [
    "games.dtypes #printing data types"
   ]
  },
  {
   "cell_type": "code",
   "execution_count": 6,
   "metadata": {},
   "outputs": [
    {
     "data": {
      "text/html": [
       "<div>\n",
       "<style scoped>\n",
       "    .dataframe tbody tr th:only-of-type {\n",
       "        vertical-align: middle;\n",
       "    }\n",
       "\n",
       "    .dataframe tbody tr th {\n",
       "        vertical-align: top;\n",
       "    }\n",
       "\n",
       "    .dataframe thead th {\n",
       "        text-align: right;\n",
       "    }\n",
       "</style>\n",
       "<table border=\"1\" class=\"dataframe\">\n",
       "  <thead>\n",
       "    <tr style=\"text-align: right;\">\n",
       "      <th></th>\n",
       "      <th>Name</th>\n",
       "      <th>Platform</th>\n",
       "      <th>Year_of_Release</th>\n",
       "      <th>Genre</th>\n",
       "      <th>NA_sales</th>\n",
       "      <th>EU_sales</th>\n",
       "      <th>JP_sales</th>\n",
       "      <th>Other_sales</th>\n",
       "      <th>Critic_Score</th>\n",
       "      <th>User_Score</th>\n",
       "      <th>Rating</th>\n",
       "    </tr>\n",
       "  </thead>\n",
       "  <tbody>\n",
       "    <tr>\n",
       "      <td>0</td>\n",
       "      <td>Wii Sports</td>\n",
       "      <td>Wii</td>\n",
       "      <td>2006.0</td>\n",
       "      <td>Sports</td>\n",
       "      <td>41.36</td>\n",
       "      <td>28.96</td>\n",
       "      <td>3.77</td>\n",
       "      <td>8.45</td>\n",
       "      <td>76.0</td>\n",
       "      <td>8</td>\n",
       "      <td>E</td>\n",
       "    </tr>\n",
       "    <tr>\n",
       "      <td>1</td>\n",
       "      <td>Super Mario Bros.</td>\n",
       "      <td>NES</td>\n",
       "      <td>1985.0</td>\n",
       "      <td>Platform</td>\n",
       "      <td>29.08</td>\n",
       "      <td>3.58</td>\n",
       "      <td>6.81</td>\n",
       "      <td>0.77</td>\n",
       "      <td>NaN</td>\n",
       "      <td>NaN</td>\n",
       "      <td>NaN</td>\n",
       "    </tr>\n",
       "    <tr>\n",
       "      <td>2</td>\n",
       "      <td>Mario Kart Wii</td>\n",
       "      <td>Wii</td>\n",
       "      <td>2008.0</td>\n",
       "      <td>Racing</td>\n",
       "      <td>15.68</td>\n",
       "      <td>12.76</td>\n",
       "      <td>3.79</td>\n",
       "      <td>3.29</td>\n",
       "      <td>82.0</td>\n",
       "      <td>8.3</td>\n",
       "      <td>E</td>\n",
       "    </tr>\n",
       "    <tr>\n",
       "      <td>3</td>\n",
       "      <td>Wii Sports Resort</td>\n",
       "      <td>Wii</td>\n",
       "      <td>2009.0</td>\n",
       "      <td>Sports</td>\n",
       "      <td>15.61</td>\n",
       "      <td>10.93</td>\n",
       "      <td>3.28</td>\n",
       "      <td>2.95</td>\n",
       "      <td>80.0</td>\n",
       "      <td>8</td>\n",
       "      <td>E</td>\n",
       "    </tr>\n",
       "    <tr>\n",
       "      <td>4</td>\n",
       "      <td>Pokemon Red/Pokemon Blue</td>\n",
       "      <td>GB</td>\n",
       "      <td>1996.0</td>\n",
       "      <td>Role-Playing</td>\n",
       "      <td>11.27</td>\n",
       "      <td>8.89</td>\n",
       "      <td>10.22</td>\n",
       "      <td>1.00</td>\n",
       "      <td>NaN</td>\n",
       "      <td>NaN</td>\n",
       "      <td>NaN</td>\n",
       "    </tr>\n",
       "  </tbody>\n",
       "</table>\n",
       "</div>"
      ],
      "text/plain": [
       "                       Name Platform  Year_of_Release         Genre  NA_sales  \\\n",
       "0                Wii Sports      Wii           2006.0        Sports     41.36   \n",
       "1         Super Mario Bros.      NES           1985.0      Platform     29.08   \n",
       "2            Mario Kart Wii      Wii           2008.0        Racing     15.68   \n",
       "3         Wii Sports Resort      Wii           2009.0        Sports     15.61   \n",
       "4  Pokemon Red/Pokemon Blue       GB           1996.0  Role-Playing     11.27   \n",
       "\n",
       "   EU_sales  JP_sales  Other_sales  Critic_Score User_Score Rating  \n",
       "0     28.96      3.77         8.45          76.0          8      E  \n",
       "1      3.58      6.81         0.77           NaN        NaN    NaN  \n",
       "2     12.76      3.79         3.29          82.0        8.3      E  \n",
       "3     10.93      3.28         2.95          80.0          8      E  \n",
       "4      8.89     10.22         1.00           NaN        NaN    NaN  "
      ]
     },
     "execution_count": 6,
     "metadata": {},
     "output_type": "execute_result"
    }
   ],
   "source": [
    "games.head() #viewing the top of the data set"
   ]
  },
  {
   "cell_type": "code",
   "execution_count": 7,
   "metadata": {},
   "outputs": [
    {
     "data": {
      "text/plain": [
       "Name                  2\n",
       "Platform              0\n",
       "Year_of_Release     269\n",
       "Genre                 2\n",
       "NA_sales              0\n",
       "EU_sales              0\n",
       "JP_sales              0\n",
       "Other_sales           0\n",
       "Critic_Score       8578\n",
       "User_Score         6701\n",
       "Rating             6766\n",
       "dtype: int64"
      ]
     },
     "execution_count": 7,
     "metadata": {},
     "output_type": "execute_result"
    }
   ],
   "source": [
    "games.isna().sum() #getting a count of missing values"
   ]
  },
  {
   "cell_type": "code",
   "execution_count": 8,
   "metadata": {},
   "outputs": [
    {
     "data": {
      "text/plain": [
       "Name                0.011965\n",
       "Platform            0.000000\n",
       "Year_of_Release     1.609333\n",
       "Genre               0.011965\n",
       "NA_sales            0.000000\n",
       "EU_sales            0.000000\n",
       "JP_sales            0.000000\n",
       "Other_sales         0.000000\n",
       "Critic_Score       51.319174\n",
       "User_Score         40.089740\n",
       "Rating             40.478612\n",
       "dtype: float64"
      ]
     },
     "execution_count": 8,
     "metadata": {},
     "output_type": "execute_result"
    }
   ],
   "source": [
    "games.isna().sum()*100/len(games) #finding the percentage of data that is missing\n",
    "pd.DataFrame(round((games.isna().mean()*100),2)).style.background_gradient('coolwarm')\n",
    "games.isna().mean() * 100"
   ]
  },
  {
   "cell_type": "code",
   "execution_count": 9,
   "metadata": {
    "scrolled": true
   },
   "outputs": [
    {
     "data": {
      "text/plain": [
       "0"
      ]
     },
     "execution_count": 9,
     "metadata": {},
     "output_type": "execute_result"
    }
   ],
   "source": [
    "games.duplicated().sum() #checking for duplicates"
   ]
  },
  {
   "cell_type": "markdown",
   "metadata": {},
   "source": [
    "&emsp;From analyzing the data, we can see that there are several issues that need to be addressed prior to conducting an analysis. There are several categories which are the wrong data type, and there are issues with names of columns not having standardized capitalization. There are no duplicates, but we do have several columns which have missing data. We will need to address these factors prior to testing our hypotheses. "
   ]
  },
  {
   "cell_type": "markdown",
   "metadata": {},
   "source": [
    "### Fixing the Data"
   ]
  },
  {
   "cell_type": "markdown",
   "metadata": {},
   "source": [
    "#### Fixing Column Names\n",
    "\n",
    "We will start with addressing the issues with capitalization for our column names. Not following a capitalization standard makes errors more likely, so we will utilize snake-case and only leave capitals where they stand for an abbreviation."
   ]
  },
  {
   "cell_type": "code",
   "execution_count": 10,
   "metadata": {},
   "outputs": [
    {
     "data": {
      "text/plain": [
       "Index(['Name', 'Platform', 'Year_of_Release', 'Genre', 'NA_sales', 'EU_sales',\n",
       "       'JP_sales', 'Other_sales', 'Critic_Score', 'User_Score', 'Rating'],\n",
       "      dtype='object')"
      ]
     },
     "execution_count": 10,
     "metadata": {},
     "output_type": "execute_result"
    }
   ],
   "source": [
    "games.columns #viewing current column names"
   ]
  },
  {
   "cell_type": "code",
   "execution_count": 11,
   "metadata": {},
   "outputs": [
    {
     "data": {
      "text/plain": [
       "Index(['name', 'platform', 'year_of_release', 'genre', 'NA_sales', 'EU_sales',\n",
       "       'JP_sales', 'other_sales', 'critic_score', 'user_score', 'rating'],\n",
       "      dtype='object')"
      ]
     },
     "execution_count": 11,
     "metadata": {},
     "output_type": "execute_result"
    }
   ],
   "source": [
    "#changing column names to correct case\n",
    "games.columns= ['name', 'platform', 'year_of_release', 'genre', 'NA_sales', 'EU_sales', 'JP_sales', 'other_sales', 'critic_score', 'user_score', 'rating']\n",
    "games.columns #checking they were changed correctly"
   ]
  },
  {
   "cell_type": "markdown",
   "metadata": {},
   "source": [
    "#### Handling Missing Values\n",
    "\n",
    "Now we will handle our missing values, starting with rating.\n"
   ]
  },
  {
   "cell_type": "code",
   "execution_count": 12,
   "metadata": {},
   "outputs": [
    {
     "data": {
      "text/plain": [
       "E       3990\n",
       "T       2961\n",
       "M       1563\n",
       "E10+    1420\n",
       "EC         8\n",
       "K-A        3\n",
       "RP         3\n",
       "AO         1\n",
       "Name: rating, dtype: int64"
      ]
     },
     "execution_count": 12,
     "metadata": {},
     "output_type": "execute_result"
    }
   ],
   "source": [
    "games['rating'].value_counts() #finding listing of all rating values"
   ]
  },
  {
   "cell_type": "code",
   "execution_count": 13,
   "metadata": {},
   "outputs": [
    {
     "data": {
      "text/plain": [
       "name                  2\n",
       "platform              0\n",
       "year_of_release     269\n",
       "genre                 2\n",
       "NA_sales              0\n",
       "EU_sales              0\n",
       "JP_sales              0\n",
       "other_sales           0\n",
       "critic_score       8578\n",
       "user_score         6701\n",
       "rating                0\n",
       "dtype: int64"
      ]
     },
     "execution_count": 13,
     "metadata": {},
     "output_type": "execute_result"
    }
   ],
   "source": [
    "games['rating'] = games['rating'].fillna('None') #replacing blank ratings with \"None\"\n",
    "games.isna().sum() #making sure values were filled"
   ]
  },
  {
   "cell_type": "markdown",
   "metadata": {},
   "source": [
    "Now for the columns name, genre, and year of release. These all have less than two percent data missing, so we will opt to drop these from our data for ease of analysis. There are no ways to infer this data from other columns in the data frame, so dropping these columns is the easiest way to handle these missing values. "
   ]
  },
  {
   "cell_type": "code",
   "execution_count": 14,
   "metadata": {},
   "outputs": [
    {
     "data": {
      "text/plain": [
       "name                  0\n",
       "platform              0\n",
       "year_of_release       0\n",
       "genre                 0\n",
       "NA_sales              0\n",
       "EU_sales              0\n",
       "JP_sales              0\n",
       "other_sales           0\n",
       "critic_score       8461\n",
       "user_score         6605\n",
       "rating                0\n",
       "dtype: int64"
      ]
     },
     "execution_count": 14,
     "metadata": {},
     "output_type": "execute_result"
    }
   ],
   "source": [
    "games = games.dropna(subset=['name', 'year_of_release', 'genre']) #dropping rows with missing values in these columns\n",
    "games.isna().sum() #checking that values were dropped appropriately"
   ]
  },
  {
   "cell_type": "markdown",
   "metadata": {},
   "source": [
    "Now we are left with two columns which contain missing values: critic_score and user_score. For these we will treat them as if having a missing value means that they just have not been rated yet. Thus we will choose not to fill these missing values in. When we are doing hypothesis testing we will elect to ignore NaN values. However, there is still the issue of TBD values in these columns. For these, we will convert them to a NaN value in order to follow the same rules of handling. "
   ]
  },
  {
   "cell_type": "code",
   "execution_count": 15,
   "metadata": {},
   "outputs": [],
   "source": [
    "games['user_score'].replace('tbd', np.nan, inplace=True) #replacing tbd with NaN value"
   ]
  },
  {
   "cell_type": "code",
   "execution_count": 16,
   "metadata": {},
   "outputs": [
    {
     "data": {
      "text/plain": [
       "array(['8', nan, '8.3', '8.5', '6.6', '8.4', '8.6', '7.7', '6.3', '7.4',\n",
       "       '8.2', '9', '7.9', '8.1', '8.7', '7.1', '3.4', '5.3', '4.8', '3.2',\n",
       "       '8.9', '6.4', '7.8', '7.5', '2.6', '7.2', '9.2', '7', '7.3', '4.3',\n",
       "       '7.6', '5.7', '5', '9.1', '6.5', '8.8', '6.9', '9.4', '6.8', '6.1',\n",
       "       '6.7', '5.4', '4', '4.9', '4.5', '9.3', '6.2', '4.2', '6', '3.7',\n",
       "       '4.1', '5.8', '5.6', '5.5', '4.4', '4.6', '5.9', '3.9', '3.1',\n",
       "       '2.9', '5.2', '3.3', '4.7', '5.1', '3.5', '2.5', '1.9', '3', '2.7',\n",
       "       '2.2', '2', '9.5', '2.1', '3.6', '2.8', '1.8', '3.8', '0', '1.6',\n",
       "       '9.6', '2.4', '1.7', '1.1', '0.3', '1.5', '0.7', '1.2', '2.3',\n",
       "       '0.5', '1.3', '0.2', '0.6', '1.4', '0.9', '1', '9.7'], dtype=object)"
      ]
     },
     "execution_count": 16,
     "metadata": {},
     "output_type": "execute_result"
    }
   ],
   "source": [
    "games['user_score'].unique() #ensuring no TBD value"
   ]
  },
  {
   "cell_type": "code",
   "execution_count": 17,
   "metadata": {},
   "outputs": [],
   "source": [
    "games['user_score'].replace('tbd', np.nan, inplace=True) #replacing tbd with NaN value"
   ]
  },
  {
   "cell_type": "code",
   "execution_count": 18,
   "metadata": {
    "scrolled": true
   },
   "outputs": [
    {
     "data": {
      "text/plain": [
       "array([76., nan, 82., 80., 89., 58., 87., 91., 61., 97., 95., 77., 88.,\n",
       "       83., 94., 93., 85., 86., 98., 96., 90., 84., 73., 74., 78., 92.,\n",
       "       71., 72., 68., 62., 49., 67., 81., 66., 56., 79., 70., 59., 64.,\n",
       "       75., 60., 63., 69., 50., 25., 42., 44., 55., 48., 57., 29., 47.,\n",
       "       65., 54., 20., 53., 37., 38., 33., 52., 30., 32., 43., 45., 51.,\n",
       "       40., 46., 39., 34., 41., 36., 31., 27., 35., 26., 19., 28., 23.,\n",
       "       24., 21., 17., 13.])"
      ]
     },
     "execution_count": 18,
     "metadata": {},
     "output_type": "execute_result"
    }
   ],
   "source": [
    "games['critic_score'].unique() #ensuring no TBD value"
   ]
  },
  {
   "cell_type": "markdown",
   "metadata": {},
   "source": [
    "#### Changing Column Types\n",
    "\n",
    "Now we will examine and address issues with column data types"
   ]
  },
  {
   "cell_type": "code",
   "execution_count": 19,
   "metadata": {},
   "outputs": [
    {
     "data": {
      "text/plain": [
       "name                object\n",
       "platform            object\n",
       "year_of_release    float64\n",
       "genre               object\n",
       "NA_sales           float64\n",
       "EU_sales           float64\n",
       "JP_sales           float64\n",
       "other_sales        float64\n",
       "critic_score       float64\n",
       "user_score          object\n",
       "rating              object\n",
       "dtype: object"
      ]
     },
     "execution_count": 19,
     "metadata": {},
     "output_type": "execute_result"
    }
   ],
   "source": [
    "games.dtypes #checking data types"
   ]
  },
  {
   "cell_type": "code",
   "execution_count": 20,
   "metadata": {},
   "outputs": [
    {
     "data": {
      "text/plain": [
       "name                object\n",
       "platform            object\n",
       "year_of_release      int64\n",
       "genre               object\n",
       "NA_sales           float64\n",
       "EU_sales           float64\n",
       "JP_sales           float64\n",
       "other_sales        float64\n",
       "critic_score       float64\n",
       "user_score          object\n",
       "rating              object\n",
       "dtype: object"
      ]
     },
     "execution_count": 20,
     "metadata": {},
     "output_type": "execute_result"
    }
   ],
   "source": [
    "games['year_of_release'] = games['year_of_release'].astype('int') #converting year to an integer\n",
    "games.dtypes #checking type was converted"
   ]
  },
  {
   "cell_type": "code",
   "execution_count": 21,
   "metadata": {},
   "outputs": [
    {
     "data": {
      "text/plain": [
       "name                object\n",
       "platform            object\n",
       "year_of_release      int64\n",
       "genre               object\n",
       "NA_sales           float64\n",
       "EU_sales           float64\n",
       "JP_sales           float64\n",
       "other_sales        float64\n",
       "critic_score       float64\n",
       "user_score         float64\n",
       "rating              object\n",
       "dtype: object"
      ]
     },
     "execution_count": 21,
     "metadata": {},
     "output_type": "execute_result"
    }
   ],
   "source": [
    "games['user_score'] = games['user_score'].astype('float') #converting score to a floating decimal\n",
    "games.dtypes #checking conversion worked"
   ]
  },
  {
   "cell_type": "code",
   "execution_count": 22,
   "metadata": {},
   "outputs": [
    {
     "data": {
      "text/plain": [
       "name                object\n",
       "platform            object\n",
       "year_of_release      int64\n",
       "genre               object\n",
       "NA_sales           float64\n",
       "EU_sales           float64\n",
       "JP_sales           float64\n",
       "other_sales        float64\n",
       "critic_score       float64\n",
       "user_score         float64\n",
       "rating              object\n",
       "dtype: object"
      ]
     },
     "execution_count": 22,
     "metadata": {},
     "output_type": "execute_result"
    }
   ],
   "source": [
    "games['critic_score'] = games['critic_score'].astype('float') #converting score to a floating decimal\n",
    "games.dtypes #checking that column type was converted"
   ]
  },
  {
   "cell_type": "markdown",
   "metadata": {},
   "source": [
    "Now we have converted all necessary data types. We have changed the year to an integer, as parts of a year are not necessary for our calculations. In addition, we converted our scores to numeric float types now that we have removed the string value of TBD. This makes arithmetic operations possible. We will leave name, platform and rating as strings, and will leave all our sales as float values since this makes the most sense with money."
   ]
  },
  {
   "cell_type": "markdown",
   "metadata": {},
   "source": [
    "#### Adding Calculated Total Revenue\n",
    "\n",
    "Next, we will calculate the total sales (the sum of sales in all regions) for each game and put these values in a separate column."
   ]
  },
  {
   "cell_type": "code",
   "execution_count": 23,
   "metadata": {},
   "outputs": [
    {
     "data": {
      "text/html": [
       "<div>\n",
       "<style scoped>\n",
       "    .dataframe tbody tr th:only-of-type {\n",
       "        vertical-align: middle;\n",
       "    }\n",
       "\n",
       "    .dataframe tbody tr th {\n",
       "        vertical-align: top;\n",
       "    }\n",
       "\n",
       "    .dataframe thead th {\n",
       "        text-align: right;\n",
       "    }\n",
       "</style>\n",
       "<table border=\"1\" class=\"dataframe\">\n",
       "  <thead>\n",
       "    <tr style=\"text-align: right;\">\n",
       "      <th></th>\n",
       "      <th>name</th>\n",
       "      <th>platform</th>\n",
       "      <th>year_of_release</th>\n",
       "      <th>genre</th>\n",
       "      <th>NA_sales</th>\n",
       "      <th>EU_sales</th>\n",
       "      <th>JP_sales</th>\n",
       "      <th>other_sales</th>\n",
       "      <th>critic_score</th>\n",
       "      <th>user_score</th>\n",
       "      <th>rating</th>\n",
       "      <th>total_sales</th>\n",
       "    </tr>\n",
       "  </thead>\n",
       "  <tbody>\n",
       "    <tr>\n",
       "      <td>0</td>\n",
       "      <td>Wii Sports</td>\n",
       "      <td>Wii</td>\n",
       "      <td>2006</td>\n",
       "      <td>Sports</td>\n",
       "      <td>41.36</td>\n",
       "      <td>28.96</td>\n",
       "      <td>3.77</td>\n",
       "      <td>8.45</td>\n",
       "      <td>76.0</td>\n",
       "      <td>8.0</td>\n",
       "      <td>E</td>\n",
       "      <td>82.54</td>\n",
       "    </tr>\n",
       "    <tr>\n",
       "      <td>1</td>\n",
       "      <td>Super Mario Bros.</td>\n",
       "      <td>NES</td>\n",
       "      <td>1985</td>\n",
       "      <td>Platform</td>\n",
       "      <td>29.08</td>\n",
       "      <td>3.58</td>\n",
       "      <td>6.81</td>\n",
       "      <td>0.77</td>\n",
       "      <td>NaN</td>\n",
       "      <td>NaN</td>\n",
       "      <td>None</td>\n",
       "      <td>40.24</td>\n",
       "    </tr>\n",
       "    <tr>\n",
       "      <td>2</td>\n",
       "      <td>Mario Kart Wii</td>\n",
       "      <td>Wii</td>\n",
       "      <td>2008</td>\n",
       "      <td>Racing</td>\n",
       "      <td>15.68</td>\n",
       "      <td>12.76</td>\n",
       "      <td>3.79</td>\n",
       "      <td>3.29</td>\n",
       "      <td>82.0</td>\n",
       "      <td>8.3</td>\n",
       "      <td>E</td>\n",
       "      <td>35.52</td>\n",
       "    </tr>\n",
       "    <tr>\n",
       "      <td>3</td>\n",
       "      <td>Wii Sports Resort</td>\n",
       "      <td>Wii</td>\n",
       "      <td>2009</td>\n",
       "      <td>Sports</td>\n",
       "      <td>15.61</td>\n",
       "      <td>10.93</td>\n",
       "      <td>3.28</td>\n",
       "      <td>2.95</td>\n",
       "      <td>80.0</td>\n",
       "      <td>8.0</td>\n",
       "      <td>E</td>\n",
       "      <td>32.77</td>\n",
       "    </tr>\n",
       "    <tr>\n",
       "      <td>4</td>\n",
       "      <td>Pokemon Red/Pokemon Blue</td>\n",
       "      <td>GB</td>\n",
       "      <td>1996</td>\n",
       "      <td>Role-Playing</td>\n",
       "      <td>11.27</td>\n",
       "      <td>8.89</td>\n",
       "      <td>10.22</td>\n",
       "      <td>1.00</td>\n",
       "      <td>NaN</td>\n",
       "      <td>NaN</td>\n",
       "      <td>None</td>\n",
       "      <td>31.38</td>\n",
       "    </tr>\n",
       "  </tbody>\n",
       "</table>\n",
       "</div>"
      ],
      "text/plain": [
       "                       name platform  year_of_release         genre  NA_sales  \\\n",
       "0                Wii Sports      Wii             2006        Sports     41.36   \n",
       "1         Super Mario Bros.      NES             1985      Platform     29.08   \n",
       "2            Mario Kart Wii      Wii             2008        Racing     15.68   \n",
       "3         Wii Sports Resort      Wii             2009        Sports     15.61   \n",
       "4  Pokemon Red/Pokemon Blue       GB             1996  Role-Playing     11.27   \n",
       "\n",
       "   EU_sales  JP_sales  other_sales  critic_score  user_score rating  \\\n",
       "0     28.96      3.77         8.45          76.0         8.0      E   \n",
       "1      3.58      6.81         0.77           NaN         NaN   None   \n",
       "2     12.76      3.79         3.29          82.0         8.3      E   \n",
       "3     10.93      3.28         2.95          80.0         8.0      E   \n",
       "4      8.89     10.22         1.00           NaN         NaN   None   \n",
       "\n",
       "   total_sales  \n",
       "0        82.54  \n",
       "1        40.24  \n",
       "2        35.52  \n",
       "3        32.77  \n",
       "4        31.38  "
      ]
     },
     "execution_count": 23,
     "metadata": {},
     "output_type": "execute_result"
    }
   ],
   "source": [
    "#creating calculated total sales by adding all locational sales together\n",
    "games['total_sales'] = games['NA_sales'] + games['EU_sales'] + games['JP_sales'] + games['other_sales'] \n",
    "games.head() #making sure column was added correctly"
   ]
  },
  {
   "cell_type": "markdown",
   "metadata": {},
   "source": [
    "## Analyzing the Data\n",
    "\n",
    "Now that we have completed cleaning up our data, we will move on to our analysis."
   ]
  },
  {
   "cell_type": "markdown",
   "metadata": {},
   "source": [
    "### Number of Games per Year\n",
    "The first section we will investigate is the number of games released per year. We are making an analysis to determine sales in 2017, so we will see if there is data which can be excluded for our future data."
   ]
  },
  {
   "cell_type": "code",
   "execution_count": 24,
   "metadata": {},
   "outputs": [
    {
     "data": {
      "text/html": [
       "<div>\n",
       "<style scoped>\n",
       "    .dataframe tbody tr th:only-of-type {\n",
       "        vertical-align: middle;\n",
       "    }\n",
       "\n",
       "    .dataframe tbody tr th {\n",
       "        vertical-align: top;\n",
       "    }\n",
       "\n",
       "    .dataframe thead th {\n",
       "        text-align: right;\n",
       "    }\n",
       "</style>\n",
       "<table border=\"1\" class=\"dataframe\">\n",
       "  <thead>\n",
       "    <tr style=\"text-align: right;\">\n",
       "      <th></th>\n",
       "      <th>name</th>\n",
       "    </tr>\n",
       "    <tr>\n",
       "      <th>year_of_release</th>\n",
       "      <th></th>\n",
       "    </tr>\n",
       "  </thead>\n",
       "  <tbody>\n",
       "    <tr>\n",
       "      <td>1980</td>\n",
       "      <td>9</td>\n",
       "    </tr>\n",
       "    <tr>\n",
       "      <td>1981</td>\n",
       "      <td>46</td>\n",
       "    </tr>\n",
       "    <tr>\n",
       "      <td>1982</td>\n",
       "      <td>36</td>\n",
       "    </tr>\n",
       "    <tr>\n",
       "      <td>1983</td>\n",
       "      <td>17</td>\n",
       "    </tr>\n",
       "    <tr>\n",
       "      <td>1984</td>\n",
       "      <td>14</td>\n",
       "    </tr>\n",
       "    <tr>\n",
       "      <td>1985</td>\n",
       "      <td>14</td>\n",
       "    </tr>\n",
       "    <tr>\n",
       "      <td>1986</td>\n",
       "      <td>21</td>\n",
       "    </tr>\n",
       "    <tr>\n",
       "      <td>1987</td>\n",
       "      <td>16</td>\n",
       "    </tr>\n",
       "    <tr>\n",
       "      <td>1988</td>\n",
       "      <td>15</td>\n",
       "    </tr>\n",
       "    <tr>\n",
       "      <td>1989</td>\n",
       "      <td>17</td>\n",
       "    </tr>\n",
       "    <tr>\n",
       "      <td>1990</td>\n",
       "      <td>16</td>\n",
       "    </tr>\n",
       "    <tr>\n",
       "      <td>1991</td>\n",
       "      <td>41</td>\n",
       "    </tr>\n",
       "    <tr>\n",
       "      <td>1992</td>\n",
       "      <td>43</td>\n",
       "    </tr>\n",
       "    <tr>\n",
       "      <td>1993</td>\n",
       "      <td>60</td>\n",
       "    </tr>\n",
       "    <tr>\n",
       "      <td>1994</td>\n",
       "      <td>121</td>\n",
       "    </tr>\n",
       "    <tr>\n",
       "      <td>1995</td>\n",
       "      <td>219</td>\n",
       "    </tr>\n",
       "    <tr>\n",
       "      <td>1996</td>\n",
       "      <td>263</td>\n",
       "    </tr>\n",
       "    <tr>\n",
       "      <td>1997</td>\n",
       "      <td>289</td>\n",
       "    </tr>\n",
       "    <tr>\n",
       "      <td>1998</td>\n",
       "      <td>379</td>\n",
       "    </tr>\n",
       "    <tr>\n",
       "      <td>1999</td>\n",
       "      <td>338</td>\n",
       "    </tr>\n",
       "    <tr>\n",
       "      <td>2000</td>\n",
       "      <td>350</td>\n",
       "    </tr>\n",
       "    <tr>\n",
       "      <td>2001</td>\n",
       "      <td>482</td>\n",
       "    </tr>\n",
       "    <tr>\n",
       "      <td>2002</td>\n",
       "      <td>829</td>\n",
       "    </tr>\n",
       "    <tr>\n",
       "      <td>2003</td>\n",
       "      <td>775</td>\n",
       "    </tr>\n",
       "    <tr>\n",
       "      <td>2004</td>\n",
       "      <td>762</td>\n",
       "    </tr>\n",
       "    <tr>\n",
       "      <td>2005</td>\n",
       "      <td>939</td>\n",
       "    </tr>\n",
       "    <tr>\n",
       "      <td>2006</td>\n",
       "      <td>1006</td>\n",
       "    </tr>\n",
       "    <tr>\n",
       "      <td>2007</td>\n",
       "      <td>1197</td>\n",
       "    </tr>\n",
       "    <tr>\n",
       "      <td>2008</td>\n",
       "      <td>1427</td>\n",
       "    </tr>\n",
       "    <tr>\n",
       "      <td>2009</td>\n",
       "      <td>1426</td>\n",
       "    </tr>\n",
       "    <tr>\n",
       "      <td>2010</td>\n",
       "      <td>1255</td>\n",
       "    </tr>\n",
       "    <tr>\n",
       "      <td>2011</td>\n",
       "      <td>1136</td>\n",
       "    </tr>\n",
       "    <tr>\n",
       "      <td>2012</td>\n",
       "      <td>653</td>\n",
       "    </tr>\n",
       "    <tr>\n",
       "      <td>2013</td>\n",
       "      <td>544</td>\n",
       "    </tr>\n",
       "    <tr>\n",
       "      <td>2014</td>\n",
       "      <td>581</td>\n",
       "    </tr>\n",
       "    <tr>\n",
       "      <td>2015</td>\n",
       "      <td>606</td>\n",
       "    </tr>\n",
       "    <tr>\n",
       "      <td>2016</td>\n",
       "      <td>502</td>\n",
       "    </tr>\n",
       "  </tbody>\n",
       "</table>\n",
       "</div>"
      ],
      "text/plain": [
       "                 name\n",
       "year_of_release      \n",
       "1980                9\n",
       "1981               46\n",
       "1982               36\n",
       "1983               17\n",
       "1984               14\n",
       "1985               14\n",
       "1986               21\n",
       "1987               16\n",
       "1988               15\n",
       "1989               17\n",
       "1990               16\n",
       "1991               41\n",
       "1992               43\n",
       "1993               60\n",
       "1994              121\n",
       "1995              219\n",
       "1996              263\n",
       "1997              289\n",
       "1998              379\n",
       "1999              338\n",
       "2000              350\n",
       "2001              482\n",
       "2002              829\n",
       "2003              775\n",
       "2004              762\n",
       "2005              939\n",
       "2006             1006\n",
       "2007             1197\n",
       "2008             1427\n",
       "2009             1426\n",
       "2010             1255\n",
       "2011             1136\n",
       "2012              653\n",
       "2013              544\n",
       "2014              581\n",
       "2015              606\n",
       "2016              502"
      ]
     },
     "metadata": {},
     "output_type": "display_data"
    }
   ],
   "source": [
    "yearly_data = games[['year_of_release', 'name']].groupby('year_of_release').count()\n",
    "display(yearly_data)"
   ]
  },
  {
   "cell_type": "markdown",
   "metadata": {},
   "source": [
    "From this picture, we see there is a significant decrease in sales prior to 1994, there were probably significantly less games released prior to that year. There is aslso a decrease in the year 2016, but this is probably due to the data not being complete for the most recent year. Sales may not be fully available yet for those games sold towards the end of the year."
   ]
  },
  {
   "cell_type": "markdown",
   "metadata": {},
   "source": [
    "### Platform Sales"
   ]
  },
  {
   "cell_type": "markdown",
   "metadata": {},
   "source": [
    "Next we will look at how sales varied from platform to platform. We will choose the platforms with the greatest total sales and view how they are distibuted year by year. We will also investigate the average lifespan of a platform."
   ]
  },
  {
   "cell_type": "markdown",
   "metadata": {},
   "source": [
    "We will start by finding the five platforms with the highest sales overall."
   ]
  },
  {
   "cell_type": "code",
   "execution_count": 25,
   "metadata": {},
   "outputs": [
    {
     "data": {
      "text/html": [
       "<div>\n",
       "<style scoped>\n",
       "    .dataframe tbody tr th:only-of-type {\n",
       "        vertical-align: middle;\n",
       "    }\n",
       "\n",
       "    .dataframe tbody tr th {\n",
       "        vertical-align: top;\n",
       "    }\n",
       "\n",
       "    .dataframe thead th {\n",
       "        text-align: right;\n",
       "    }\n",
       "</style>\n",
       "<table border=\"1\" class=\"dataframe\">\n",
       "  <thead>\n",
       "    <tr style=\"text-align: right;\">\n",
       "      <th></th>\n",
       "      <th>platform</th>\n",
       "      <th>total_sales</th>\n",
       "    </tr>\n",
       "  </thead>\n",
       "  <tbody>\n",
       "    <tr>\n",
       "      <td>16</td>\n",
       "      <td>PS2</td>\n",
       "      <td>1233.56</td>\n",
       "    </tr>\n",
       "    <tr>\n",
       "      <td>28</td>\n",
       "      <td>X360</td>\n",
       "      <td>961.24</td>\n",
       "    </tr>\n",
       "    <tr>\n",
       "      <td>17</td>\n",
       "      <td>PS3</td>\n",
       "      <td>931.34</td>\n",
       "    </tr>\n",
       "    <tr>\n",
       "      <td>26</td>\n",
       "      <td>Wii</td>\n",
       "      <td>891.18</td>\n",
       "    </tr>\n",
       "    <tr>\n",
       "      <td>4</td>\n",
       "      <td>DS</td>\n",
       "      <td>802.78</td>\n",
       "    </tr>\n",
       "    <tr>\n",
       "      <td>15</td>\n",
       "      <td>PS</td>\n",
       "      <td>727.58</td>\n",
       "    </tr>\n",
       "    <tr>\n",
       "      <td>18</td>\n",
       "      <td>PS4</td>\n",
       "      <td>314.14</td>\n",
       "    </tr>\n",
       "    <tr>\n",
       "      <td>6</td>\n",
       "      <td>GBA</td>\n",
       "      <td>312.88</td>\n",
       "    </tr>\n",
       "    <tr>\n",
       "      <td>19</td>\n",
       "      <td>PSP</td>\n",
       "      <td>289.53</td>\n",
       "    </tr>\n",
       "    <tr>\n",
       "      <td>2</td>\n",
       "      <td>3DS</td>\n",
       "      <td>257.81</td>\n",
       "    </tr>\n",
       "    <tr>\n",
       "      <td>13</td>\n",
       "      <td>PC</td>\n",
       "      <td>255.76</td>\n",
       "    </tr>\n",
       "    <tr>\n",
       "      <td>5</td>\n",
       "      <td>GB</td>\n",
       "      <td>254.43</td>\n",
       "    </tr>\n",
       "    <tr>\n",
       "      <td>29</td>\n",
       "      <td>XB</td>\n",
       "      <td>251.57</td>\n",
       "    </tr>\n",
       "    <tr>\n",
       "      <td>11</td>\n",
       "      <td>NES</td>\n",
       "      <td>251.05</td>\n",
       "    </tr>\n",
       "    <tr>\n",
       "      <td>10</td>\n",
       "      <td>N64</td>\n",
       "      <td>218.01</td>\n",
       "    </tr>\n",
       "    <tr>\n",
       "      <td>23</td>\n",
       "      <td>SNES</td>\n",
       "      <td>200.04</td>\n",
       "    </tr>\n",
       "    <tr>\n",
       "      <td>7</td>\n",
       "      <td>GC</td>\n",
       "      <td>196.73</td>\n",
       "    </tr>\n",
       "    <tr>\n",
       "      <td>30</td>\n",
       "      <td>XOne</td>\n",
       "      <td>159.32</td>\n",
       "    </tr>\n",
       "    <tr>\n",
       "      <td>0</td>\n",
       "      <td>2600</td>\n",
       "      <td>86.48</td>\n",
       "    </tr>\n",
       "    <tr>\n",
       "      <td>27</td>\n",
       "      <td>WiiU</td>\n",
       "      <td>82.19</td>\n",
       "    </tr>\n",
       "    <tr>\n",
       "      <td>20</td>\n",
       "      <td>PSV</td>\n",
       "      <td>53.81</td>\n",
       "    </tr>\n",
       "    <tr>\n",
       "      <td>21</td>\n",
       "      <td>SAT</td>\n",
       "      <td>33.59</td>\n",
       "    </tr>\n",
       "    <tr>\n",
       "      <td>8</td>\n",
       "      <td>GEN</td>\n",
       "      <td>28.35</td>\n",
       "    </tr>\n",
       "    <tr>\n",
       "      <td>3</td>\n",
       "      <td>DC</td>\n",
       "      <td>15.95</td>\n",
       "    </tr>\n",
       "    <tr>\n",
       "      <td>22</td>\n",
       "      <td>SCD</td>\n",
       "      <td>1.86</td>\n",
       "    </tr>\n",
       "    <tr>\n",
       "      <td>12</td>\n",
       "      <td>NG</td>\n",
       "      <td>1.44</td>\n",
       "    </tr>\n",
       "    <tr>\n",
       "      <td>25</td>\n",
       "      <td>WS</td>\n",
       "      <td>1.42</td>\n",
       "    </tr>\n",
       "    <tr>\n",
       "      <td>24</td>\n",
       "      <td>TG16</td>\n",
       "      <td>0.16</td>\n",
       "    </tr>\n",
       "    <tr>\n",
       "      <td>1</td>\n",
       "      <td>3DO</td>\n",
       "      <td>0.10</td>\n",
       "    </tr>\n",
       "    <tr>\n",
       "      <td>9</td>\n",
       "      <td>GG</td>\n",
       "      <td>0.04</td>\n",
       "    </tr>\n",
       "    <tr>\n",
       "      <td>14</td>\n",
       "      <td>PCFX</td>\n",
       "      <td>0.03</td>\n",
       "    </tr>\n",
       "  </tbody>\n",
       "</table>\n",
       "</div>"
      ],
      "text/plain": [
       "   platform  total_sales\n",
       "16      PS2      1233.56\n",
       "28     X360       961.24\n",
       "17      PS3       931.34\n",
       "26      Wii       891.18\n",
       "4        DS       802.78\n",
       "15       PS       727.58\n",
       "18      PS4       314.14\n",
       "6       GBA       312.88\n",
       "19      PSP       289.53\n",
       "2       3DS       257.81\n",
       "13       PC       255.76\n",
       "5        GB       254.43\n",
       "29       XB       251.57\n",
       "11      NES       251.05\n",
       "10      N64       218.01\n",
       "23     SNES       200.04\n",
       "7        GC       196.73\n",
       "30     XOne       159.32\n",
       "0      2600        86.48\n",
       "27     WiiU        82.19\n",
       "20      PSV        53.81\n",
       "21      SAT        33.59\n",
       "8       GEN        28.35\n",
       "3        DC        15.95\n",
       "22      SCD         1.86\n",
       "12       NG         1.44\n",
       "25       WS         1.42\n",
       "24     TG16         0.16\n",
       "1       3DO         0.10\n",
       "9        GG         0.04\n",
       "14     PCFX         0.03"
      ]
     },
     "metadata": {},
     "output_type": "display_data"
    }
   ],
   "source": [
    "platform_data = games[['platform', 'total_sales']].groupby(['platform']).sum().reset_index()\n",
    "platform_data.columns = ['platform', 'total_sales']\n",
    "platform_data.sort_values(by = 'total_sales', ascending= False, inplace=True)\n",
    "display(platform_data)"
   ]
  },
  {
   "cell_type": "markdown",
   "metadata": {},
   "source": [
    "We see that the five platforms with the highest overall sales are : PS2, X360, PS3, Wii and DS. Now we will look at the distribution of the top ten performing platforms over time. "
   ]
  },
  {
   "cell_type": "code",
   "execution_count": 26,
   "metadata": {},
   "outputs": [],
   "source": [
    "#creating list of top ten platforms\n",
    "top_ten = ['PS2','X360','PS3','Wii','DS','PS','PS4','GBA','PSP']"
   ]
  },
  {
   "cell_type": "code",
   "execution_count": 27,
   "metadata": {},
   "outputs": [],
   "source": [
    "#creating sorted data by platform and year\n",
    "yearly_data = games[['platform', 'year_of_release', 'total_sales']].groupby(['platform', 'year_of_release']).count().reset_index()\n",
    "#only keeping the data for the top ten platforms\n",
    "yearly_data = yearly_data.query('platform in @top_ten')"
   ]
  },
  {
   "cell_type": "code",
   "execution_count": 28,
   "metadata": {
    "scrolled": false
   },
   "outputs": [
    {
     "data": {
      "image/png": "[encoded data removed]",
      "text/plain": [
       "<Figure size 720x576 with 1 Axes>"
      ]
     },
     "metadata": {
      "needs_background": "light"
     },
     "output_type": "display_data"
    }
   ],
   "source": [
    "#creating a plot of the top ten platforms\n",
    "fig, ax = plt.subplots(figsize=(10,8))\n",
    "for p in top_ten:\n",
    "    df2 = yearly_data.loc[yearly_data['platform'] == p]\n",
    "    df2.plot('year_of_release', 'total_sales', ax=ax, label=p)\n",
    "plt.legend(loc='center left', bbox_to_anchor=(1, 0.5))\n",
    "plt.title('Performance of Platforms: Total Sales Count by Year')\n",
    "plt.xlabel('Year of Release')\n",
    "plt.ylabel('Number of Sales')\n",
    "plt.show()"
   ]
  },
  {
   "cell_type": "markdown",
   "metadata": {},
   "source": [
    "From our graph we can see that DS became very popular between 2005 to 2010, but then quickly dropped off close to zero by the mid 2010s. PS also became popular in the late-1990s, then dropped off to practically zero by the early 2000s. We can see the average lifespan of a platform is just under 10 years. New platforms tend to appear about halfway through the decline of the previous, however in more recent years there seem to be more platforms coming out more frequently. "
   ]
  },
  {
   "cell_type": "markdown",
   "metadata": {},
   "source": [
    "Now we will do a deeper analysis for sales since 2010, since these are the most recent years, they will show platforms that are most commonly used, as well as those which are becoming more popular."
   ]
  },
  {
   "cell_type": "code",
   "execution_count": 29,
   "metadata": {},
   "outputs": [],
   "source": [
    "#creating sorted data by platform and year\n",
    "new_year_data = games[['platform', 'year_of_release', 'total_sales']].groupby(['platform', 'year_of_release']).count().reset_index()\n",
    "#only keeping the data for the top ten platforms\n",
    "new_year_data = new_year_data.query('year_of_release > 2010')\n",
    "new_year_p = new_year_data['platform'].unique()"
   ]
  },
  {
   "cell_type": "code",
   "execution_count": 30,
   "metadata": {
    "scrolled": false
   },
   "outputs": [
    {
     "data": {
      "image/png": "[encoded data removed]",
      "text/plain": [
       "<Figure size 720x576 with 1 Axes>"
      ]
     },
     "metadata": {
      "needs_background": "light"
     },
     "output_type": "display_data"
    }
   ],
   "source": [
    "#creating a plot of the top ten platforms\n",
    "fig, ax = plt.subplots(figsize=(10,8))\n",
    "for p in new_year_p:\n",
    "    df2 = new_year_data.loc[new_year_data['platform'] == p]\n",
    "    df2.plot('year_of_release', 'total_sales', ax=ax, label=p)\n",
    "plt.legend(loc='center left', bbox_to_anchor=(1, 0.5))\n",
    "plt.title('Performance of Platforms: Most Recent Years')\n",
    "plt.xlabel('Year of Release')\n",
    "plt.ylabel('Number of Sales')\n",
    "plt.show()"
   ]
  },
  {
   "cell_type": "markdown",
   "metadata": {},
   "source": [
    "Looking at the data from the most recent years, we can see that PS4 has gotten more popular as well as XOne. These are expected to continue to rise in popularity with the upcoming year. There are also several platforms which appear to be on the decline this year including the PSV, 3DS and X360. "
   ]
  },
  {
   "cell_type": "markdown",
   "metadata": {},
   "source": [
    "For our next analysis, we will select sales since 1994, and only include platforms which have been present since 2010."
   ]
  },
  {
   "cell_type": "code",
   "execution_count": 31,
   "metadata": {},
   "outputs": [],
   "source": [
    "import warnings\n",
    "warnings.filterwarnings(\"ignore\")"
   ]
  },
  {
   "cell_type": "code",
   "execution_count": 32,
   "metadata": {},
   "outputs": [],
   "source": [
    "new_games = games.query('year_of_release > 2014')\n",
    "new_games = new_games.query('platform in @new_year_p')"
   ]
  },
  {
   "cell_type": "code",
   "execution_count": 33,
   "metadata": {},
   "outputs": [
    {
     "data": {
      "image/png": "[encoded data removed]",
      "text/plain": [
       "<Figure size 576x432 with 1 Axes>"
      ]
     },
     "metadata": {
      "needs_background": "light"
     },
     "output_type": "display_data"
    }
   ],
   "source": [
    "new_games.boxplot(column= 'total_sales', by='platform', rot=60, figsize=(8,6), showfliers= False)\n",
    "plt.ylim(0, 1.5)\n",
    "plt.show()"
   ]
  },
  {
   "cell_type": "markdown",
   "metadata": {},
   "source": [
    "We can see that the total sales averages do vary between the platforms. PS3 and X360 have the highest averages, closely followed by Xone, PS2, and Wii U. There is some degree of variation between each of them, and all have a significant number of upper outliers."
   ]
  },
  {
   "cell_type": "markdown",
   "metadata": {},
   "source": [
    "### Reviews Affect on Sales"
   ]
  },
  {
   "cell_type": "markdown",
   "metadata": {},
   "source": [
    "Take a look at how user and professional reviews affect sales for one popular platform (you choose). Build a scatter plot and calculate the correlation between reviews and sales. Draw conclusions.\n",
    "\n",
    "For this section we will select XOne to analyze. "
   ]
  },
  {
   "cell_type": "code",
   "execution_count": 34,
   "metadata": {},
   "outputs": [],
   "source": [
    "xone_data = new_games.query('platform == \"XOne\"') #creating subset of data for our platform"
   ]
  },
  {
   "cell_type": "code",
   "execution_count": 35,
   "metadata": {},
   "outputs": [
    {
     "data": {
      "image/png": "[encoded data removed]",
      "text/plain": [
       "<Figure size 432x288 with 1 Axes>"
      ]
     },
     "metadata": {
      "needs_background": "light"
     },
     "output_type": "display_data"
    }
   ],
   "source": [
    "xone_data.plot.scatter(x='user_score', y='total_sales') #plotting user score vs total sales\n",
    "plt.title(\"User Score vs Total Sales\")\n",
    "plt.ylim(0,2.5)\n",
    "plt.show()"
   ]
  },
  {
   "cell_type": "code",
   "execution_count": 36,
   "metadata": {},
   "outputs": [
    {
     "data": {
      "image/png": "[encoded data removed]",
      "text/plain": [
       "<Figure size 432x288 with 1 Axes>"
      ]
     },
     "metadata": {
      "needs_background": "light"
     },
     "output_type": "display_data"
    }
   ],
   "source": [
    "xone_data.plot.scatter(x='critic_score', y='total_sales') #plotting critic score vs total sales\n",
    "plt.title('Critic Score vs Total Sales')\n",
    "plt.ylim(0,2.5)\n",
    "plt.show()"
   ]
  },
  {
   "cell_type": "code",
   "execution_count": 37,
   "metadata": {},
   "outputs": [
    {
     "name": "stdout",
     "output_type": "stream",
     "text": [
      "The Pearson correlation coefficient for User Score and Total Sales: -0.04146733387366271\n",
      "The Pearson correlation coefficient for Critic Score and Total Sales: 0.43088874582136805\n"
     ]
    }
   ],
   "source": [
    "user_score_corr = xone_data['user_score'].corr(xone_data['total_sales'])\n",
    "print(f'The Pearson correlation coefficient for User Score and Total Sales: {user_score_corr}')\n",
    "critic_score_corr = xone_data['critic_score'].corr(xone_data['total_sales'])\n",
    "print(f'The Pearson correlation coefficient for Critic Score and Total Sales: {critic_score_corr}')"
   ]
  },
  {
   "cell_type": "markdown",
   "metadata": {},
   "source": [
    "&emsp;After examining these two graphs and correlation coefficients we can see that there is a moderate positive correlation between critic score and total sales. However, we see that there is almost no relation between user score and total sales. This may be due to the fact that critics are more likely to have an impartial view of the game, whereas users are more likely to be driven by personal preference and thus will rate a game lower or higher based on their bias rather than how good the game actually is. People also may be more likely to purchase a game that is critically acclaimed rather than one that is solely rated well by users."
   ]
  },
  {
   "cell_type": "markdown",
   "metadata": {},
   "source": [
    "### Individual Game Sales Across Platforms"
   ]
  },
  {
   "cell_type": "markdown",
   "metadata": {},
   "source": [
    "Now we will investigate how individual games perform across different platforms."
   ]
  },
  {
   "cell_type": "code",
   "execution_count": 38,
   "metadata": {},
   "outputs": [
    {
     "data": {
      "text/plain": [
       "LEGO Jurassic World                          8\n",
       "Skylanders: SuperChargers                    7\n",
       "LEGO Marvel's Avengers                       7\n",
       "Lego Star Wars: The Force Awakens            7\n",
       "Just Dance 2016                              6\n",
       "                                            ..\n",
       "Gudetama: Hanjuku de Tanomuwa                1\n",
       "Uta no Prince-Sama: Music 3                  1\n",
       "New Tokyo Legacy: Operation Babel            1\n",
       "Super Mario Maker                            1\n",
       "The Great Mystery Hidden Object Package 5    1\n",
       "Name: name, Length: 654, dtype: int64"
      ]
     },
     "execution_count": 38,
     "metadata": {},
     "output_type": "execute_result"
    }
   ],
   "source": [
    "new_games['name'].value_counts() #seeing games which are present across multiple platforms"
   ]
  },
  {
   "cell_type": "code",
   "execution_count": 39,
   "metadata": {},
   "outputs": [],
   "source": [
    "pop_games = [\"LEGO Marvel's Avengers\", 'Skylanders: SuperChargers', 'Lego Star Wars: The Force Awakens'] #selecting three that have multiple platforms\n",
    "#creating subsets of data for the three cross-platform games\n",
    "marvel_data = new_games.query('name == @pop_games[0]')\n",
    "sky_data = new_games.query('name == @pop_games[1]')\n",
    "star_data = new_games.query('name == @pop_games[2]')"
   ]
  },
  {
   "cell_type": "code",
   "execution_count": 40,
   "metadata": {
    "scrolled": false
   },
   "outputs": [
    {
     "data": {
      "image/png": "[encoded data removed]",
      "text/plain": [
       "<Figure size 432x360 with 1 Axes>"
      ]
     },
     "metadata": {
      "needs_background": "light"
     },
     "output_type": "display_data"
    }
   ],
   "source": [
    "marvel_data.boxplot(column='total_sales', by='platform', figsize=(6,5), showfliers=False)\n",
    "plt.title(\"LEGO Marvel's Avengers Sales Across Platforms\")\n",
    "plt.xlabel(\"Platform\")\n",
    "plt.ylabel('Sales')\n",
    "plt.show()"
   ]
  },
  {
   "cell_type": "code",
   "execution_count": 41,
   "metadata": {},
   "outputs": [
    {
     "data": {
      "image/png": "[encoded data removed]",
      "text/plain": [
       "<Figure size 432x360 with 1 Axes>"
      ]
     },
     "metadata": {
      "needs_background": "light"
     },
     "output_type": "display_data"
    }
   ],
   "source": [
    "sky_data.boxplot(column='total_sales', by='platform', figsize=(6,5), showfliers=False)\n",
    "plt.title(\"Skylanders: SuperChargers Sales Across Platforms\")\n",
    "plt.xlabel(\"Platform\")\n",
    "plt.ylabel('Sales')\n",
    "plt.show()"
   ]
  },
  {
   "cell_type": "code",
   "execution_count": 42,
   "metadata": {},
   "outputs": [
    {
     "data": {
      "image/png": "[encoded data removed]",
      "text/plain": [
       "<Figure size 432x360 with 1 Axes>"
      ]
     },
     "metadata": {
      "needs_background": "light"
     },
     "output_type": "display_data"
    }
   ],
   "source": [
    "star_data.boxplot(column='total_sales', by='platform', figsize=(6,5), showfliers=False)\n",
    "plt.title(\"Lego Star Wars: The Force Awakens Sales Across Platforms\")\n",
    "plt.xlabel(\"Platform\")\n",
    "plt.ylabel('Sales')\n",
    "plt.show()"
   ]
  },
  {
   "cell_type": "markdown",
   "metadata": {},
   "source": [
    "From these graphs, we can make some generalizations about video game performance across multiple platforms. X360 overall tends to have the best sales, with PS4 also being higher than others. Wii and DS games tend to perform worse in overall sales. "
   ]
  },
  {
   "cell_type": "markdown",
   "metadata": {},
   "source": [
    "### Genre Popularity"
   ]
  },
  {
   "cell_type": "code",
   "execution_count": 43,
   "metadata": {},
   "outputs": [
    {
     "data": {
      "image/png": "[encoded data removed]",
      "text/plain": [
       "<Figure size 432x288 with 1 Axes>"
      ]
     },
     "metadata": {
      "needs_background": "light"
     },
     "output_type": "display_data"
    }
   ],
   "source": [
    "new_games['genre'].value_counts().plot(kind='bar')\n",
    "plt.show()"
   ]
  },
  {
   "cell_type": "code",
   "execution_count": 44,
   "metadata": {},
   "outputs": [
    {
     "data": {
      "image/png": "[encoded data removed]",
      "text/plain": [
       "<Figure size 432x288 with 1 Axes>"
      ]
     },
     "metadata": {
      "needs_background": "light"
     },
     "output_type": "display_data"
    }
   ],
   "source": [
    "new_games[['genre','total_sales']].groupby('genre').mean().plot(kind='bar') #creating bar chart of total sales by genre\n",
    "plt.show()"
   ]
  },
  {
   "cell_type": "markdown",
   "metadata": {},
   "source": [
    "From this we can see that action and sports are the most popular games, with platforming and puzzle the least popular based on number of titles. However, we can see from the second graph that shooters made significantly more sales than action games on average, so while there are less shooters, they tend to make more money."
   ]
  },
  {
   "cell_type": "markdown",
   "metadata": {},
   "source": [
    "## Regional Analysis\n",
    "\n",
    "Now we will analyze our regional sales based on platform, genre and rating. We will start with looking at platform performance in our three regions: North America, Europe and Japan"
   ]
  },
  {
   "cell_type": "code",
   "execution_count": 45,
   "metadata": {},
   "outputs": [
    {
     "data": {
      "text/html": [
       "<div>\n",
       "<style scoped>\n",
       "    .dataframe tbody tr th:only-of-type {\n",
       "        vertical-align: middle;\n",
       "    }\n",
       "\n",
       "    .dataframe tbody tr th {\n",
       "        vertical-align: top;\n",
       "    }\n",
       "\n",
       "    .dataframe thead th {\n",
       "        text-align: right;\n",
       "    }\n",
       "</style>\n",
       "<table border=\"1\" class=\"dataframe\">\n",
       "  <thead>\n",
       "    <tr style=\"text-align: right;\">\n",
       "      <th></th>\n",
       "      <th>platform</th>\n",
       "      <th>total_NA_sales</th>\n",
       "    </tr>\n",
       "  </thead>\n",
       "  <tbody>\n",
       "    <tr>\n",
       "      <td>3</td>\n",
       "      <td>PS4</td>\n",
       "      <td>63.86</td>\n",
       "    </tr>\n",
       "    <tr>\n",
       "      <td>9</td>\n",
       "      <td>XOne</td>\n",
       "      <td>50.30</td>\n",
       "    </tr>\n",
       "    <tr>\n",
       "      <td>0</td>\n",
       "      <td>3DS</td>\n",
       "      <td>10.31</td>\n",
       "    </tr>\n",
       "    <tr>\n",
       "      <td>7</td>\n",
       "      <td>WiiU</td>\n",
       "      <td>8.86</td>\n",
       "    </tr>\n",
       "    <tr>\n",
       "      <td>8</td>\n",
       "      <td>X360</td>\n",
       "      <td>8.05</td>\n",
       "    </tr>\n",
       "  </tbody>\n",
       "</table>\n",
       "</div>"
      ],
      "text/plain": [
       "  platform  total_NA_sales\n",
       "3      PS4           63.86\n",
       "9     XOne           50.30\n",
       "0      3DS           10.31\n",
       "7     WiiU            8.86\n",
       "8     X360            8.05"
      ]
     },
     "execution_count": 45,
     "metadata": {},
     "output_type": "execute_result"
    }
   ],
   "source": [
    "NA_platform_data = new_games[['platform','NA_sales']].groupby('platform').sum().reset_index() #finding sum of sales by platform\n",
    "NA_platform_data.columns = ['platform', 'total_NA_sales']\n",
    "NA_platform_data.sort_values(by='total_NA_sales', ascending=False, inplace=True) #sorting in descending order\n",
    "NA_platform_data.head() #printing top 5 platforms"
   ]
  },
  {
   "cell_type": "markdown",
   "metadata": {},
   "source": [
    "We can see in North America the most popular platforms based on overall sales are: X360, PS2, Wii, PS3, DS."
   ]
  },
  {
   "cell_type": "code",
   "execution_count": 46,
   "metadata": {},
   "outputs": [
    {
     "data": {
      "text/html": [
       "<div>\n",
       "<style scoped>\n",
       "    .dataframe tbody tr th:only-of-type {\n",
       "        vertical-align: middle;\n",
       "    }\n",
       "\n",
       "    .dataframe tbody tr th {\n",
       "        vertical-align: top;\n",
       "    }\n",
       "\n",
       "    .dataframe thead th {\n",
       "        text-align: right;\n",
       "    }\n",
       "</style>\n",
       "<table border=\"1\" class=\"dataframe\">\n",
       "  <thead>\n",
       "    <tr style=\"text-align: right;\">\n",
       "      <th></th>\n",
       "      <th>platform</th>\n",
       "      <th>total_EU_sales</th>\n",
       "    </tr>\n",
       "  </thead>\n",
       "  <tbody>\n",
       "    <tr>\n",
       "      <td>3</td>\n",
       "      <td>PS4</td>\n",
       "      <td>83.54</td>\n",
       "    </tr>\n",
       "    <tr>\n",
       "      <td>9</td>\n",
       "      <td>XOne</td>\n",
       "      <td>28.10</td>\n",
       "    </tr>\n",
       "    <tr>\n",
       "      <td>1</td>\n",
       "      <td>PC</td>\n",
       "      <td>9.10</td>\n",
       "    </tr>\n",
       "    <tr>\n",
       "      <td>0</td>\n",
       "      <td>3DS</td>\n",
       "      <td>7.39</td>\n",
       "    </tr>\n",
       "    <tr>\n",
       "      <td>2</td>\n",
       "      <td>PS3</td>\n",
       "      <td>7.30</td>\n",
       "    </tr>\n",
       "  </tbody>\n",
       "</table>\n",
       "</div>"
      ],
      "text/plain": [
       "  platform  total_EU_sales\n",
       "3      PS4           83.54\n",
       "9     XOne           28.10\n",
       "1       PC            9.10\n",
       "0      3DS            7.39\n",
       "2      PS3            7.30"
      ]
     },
     "execution_count": 46,
     "metadata": {},
     "output_type": "execute_result"
    }
   ],
   "source": [
    "EU_platform_data = new_games[['platform', 'EU_sales']].groupby('platform').sum().reset_index()#finding sum of sales by platform\n",
    "EU_platform_data.columns = ['platform', 'total_EU_sales']\n",
    "EU_platform_data.sort_values(by='total_EU_sales', ascending=False, inplace=True) #sorting in descending order\n",
    "EU_platform_data.head()#printing top 5 platforms"
   ]
  },
  {
   "cell_type": "markdown",
   "metadata": {},
   "source": [
    "We can see that Europe has similar, but slightly different platform preferences to North American sales: PS2, PS3, X360, Wii, 3DS. We can also see that on average, all of the platforms have higher overall sales in North America vs Europe."
   ]
  },
  {
   "cell_type": "code",
   "execution_count": 47,
   "metadata": {},
   "outputs": [
    {
     "data": {
      "text/html": [
       "<div>\n",
       "<style scoped>\n",
       "    .dataframe tbody tr th:only-of-type {\n",
       "        vertical-align: middle;\n",
       "    }\n",
       "\n",
       "    .dataframe tbody tr th {\n",
       "        vertical-align: top;\n",
       "    }\n",
       "\n",
       "    .dataframe thead th {\n",
       "        text-align: right;\n",
       "    }\n",
       "</style>\n",
       "<table border=\"1\" class=\"dataframe\">\n",
       "  <thead>\n",
       "    <tr style=\"text-align: right;\">\n",
       "      <th></th>\n",
       "      <th>platform</th>\n",
       "      <th>total_JP_sales</th>\n",
       "    </tr>\n",
       "  </thead>\n",
       "  <tbody>\n",
       "    <tr>\n",
       "      <td>0</td>\n",
       "      <td>3DS</td>\n",
       "      <td>23.55</td>\n",
       "    </tr>\n",
       "    <tr>\n",
       "      <td>3</td>\n",
       "      <td>PS4</td>\n",
       "      <td>12.05</td>\n",
       "    </tr>\n",
       "    <tr>\n",
       "      <td>5</td>\n",
       "      <td>PSV</td>\n",
       "      <td>8.41</td>\n",
       "    </tr>\n",
       "    <tr>\n",
       "      <td>2</td>\n",
       "      <td>PS3</td>\n",
       "      <td>4.97</td>\n",
       "    </tr>\n",
       "    <tr>\n",
       "      <td>7</td>\n",
       "      <td>WiiU</td>\n",
       "      <td>4.12</td>\n",
       "    </tr>\n",
       "  </tbody>\n",
       "</table>\n",
       "</div>"
      ],
      "text/plain": [
       "  platform  total_JP_sales\n",
       "0      3DS           23.55\n",
       "3      PS4           12.05\n",
       "5      PSV            8.41\n",
       "2      PS3            4.97\n",
       "7     WiiU            4.12"
      ]
     },
     "execution_count": 47,
     "metadata": {},
     "output_type": "execute_result"
    }
   ],
   "source": [
    "JP_platform_data = new_games[['platform', 'JP_sales']].groupby('platform').sum().reset_index()#finding sum of sales by platform\n",
    "JP_platform_data.columns = ['platform', 'total_JP_sales']\n",
    "JP_platform_data.sort_values(by='total_JP_sales', ascending=False, inplace=True) #sorting in descending order\n",
    "JP_platform_data.head()#printing top 5 platforms"
   ]
  },
  {
   "cell_type": "markdown",
   "metadata": {},
   "source": [
    "Japan is a bit different in its platform preferences, with DS being the most popular. After that are PS2, 3DS, PS3 and PC. We can see overall that Japan has the lowest overall sales, but this may just be due to  population size overall."
   ]
  },
  {
   "cell_type": "code",
   "execution_count": 48,
   "metadata": {
    "scrolled": true
   },
   "outputs": [
    {
     "data": {
      "text/html": [
       "<div>\n",
       "<style scoped>\n",
       "    .dataframe tbody tr th:only-of-type {\n",
       "        vertical-align: middle;\n",
       "    }\n",
       "\n",
       "    .dataframe tbody tr th {\n",
       "        vertical-align: top;\n",
       "    }\n",
       "\n",
       "    .dataframe thead th {\n",
       "        text-align: right;\n",
       "    }\n",
       "</style>\n",
       "<table border=\"1\" class=\"dataframe\">\n",
       "  <thead>\n",
       "    <tr style=\"text-align: right;\">\n",
       "      <th></th>\n",
       "      <th>genre</th>\n",
       "      <th>total_NA_sales</th>\n",
       "    </tr>\n",
       "  </thead>\n",
       "  <tbody>\n",
       "    <tr>\n",
       "      <td>8</td>\n",
       "      <td>Shooter</td>\n",
       "      <td>48.18</td>\n",
       "    </tr>\n",
       "    <tr>\n",
       "      <td>0</td>\n",
       "      <td>Action</td>\n",
       "      <td>33.68</td>\n",
       "    </tr>\n",
       "    <tr>\n",
       "      <td>10</td>\n",
       "      <td>Sports</td>\n",
       "      <td>26.31</td>\n",
       "    </tr>\n",
       "    <tr>\n",
       "      <td>7</td>\n",
       "      <td>Role-Playing</td>\n",
       "      <td>19.82</td>\n",
       "    </tr>\n",
       "    <tr>\n",
       "      <td>3</td>\n",
       "      <td>Misc</td>\n",
       "      <td>5.58</td>\n",
       "    </tr>\n",
       "  </tbody>\n",
       "</table>\n",
       "</div>"
      ],
      "text/plain": [
       "           genre  total_NA_sales\n",
       "8        Shooter           48.18\n",
       "0         Action           33.68\n",
       "10        Sports           26.31\n",
       "7   Role-Playing           19.82\n",
       "3           Misc            5.58"
      ]
     },
     "execution_count": 48,
     "metadata": {},
     "output_type": "execute_result"
    }
   ],
   "source": [
    "NA_genre_data = new_games[['genre', 'NA_sales']].groupby('genre').sum().reset_index() #finding sum of sales by genre\n",
    "NA_genre_data.columns = ['genre', 'total_NA_sales']\n",
    "NA_genre_data.sort_values(by='total_NA_sales', ascending=False, inplace=True)#sorting in descending order\n",
    "NA_genre_data.head() #printing top 5 values"
   ]
  },
  {
   "cell_type": "markdown",
   "metadata": {},
   "source": [
    "For North America, the most popular genre is Action, followed by sports, shooters, miscellaneous and role-playing games."
   ]
  },
  {
   "cell_type": "code",
   "execution_count": 49,
   "metadata": {},
   "outputs": [
    {
     "data": {
      "text/html": [
       "<div>\n",
       "<style scoped>\n",
       "    .dataframe tbody tr th:only-of-type {\n",
       "        vertical-align: middle;\n",
       "    }\n",
       "\n",
       "    .dataframe tbody tr th {\n",
       "        vertical-align: top;\n",
       "    }\n",
       "\n",
       "    .dataframe thead th {\n",
       "        text-align: right;\n",
       "    }\n",
       "</style>\n",
       "<table border=\"1\" class=\"dataframe\">\n",
       "  <thead>\n",
       "    <tr style=\"text-align: right;\">\n",
       "      <th></th>\n",
       "      <th>genre</th>\n",
       "      <th>total_EU_sales</th>\n",
       "    </tr>\n",
       "  </thead>\n",
       "  <tbody>\n",
       "    <tr>\n",
       "      <td>8</td>\n",
       "      <td>Shooter</td>\n",
       "      <td>40.28</td>\n",
       "    </tr>\n",
       "    <tr>\n",
       "      <td>0</td>\n",
       "      <td>Action</td>\n",
       "      <td>34.82</td>\n",
       "    </tr>\n",
       "    <tr>\n",
       "      <td>10</td>\n",
       "      <td>Sports</td>\n",
       "      <td>27.82</td>\n",
       "    </tr>\n",
       "    <tr>\n",
       "      <td>7</td>\n",
       "      <td>Role-Playing</td>\n",
       "      <td>17.21</td>\n",
       "    </tr>\n",
       "    <tr>\n",
       "      <td>6</td>\n",
       "      <td>Racing</td>\n",
       "      <td>6.52</td>\n",
       "    </tr>\n",
       "  </tbody>\n",
       "</table>\n",
       "</div>"
      ],
      "text/plain": [
       "           genre  total_EU_sales\n",
       "8        Shooter           40.28\n",
       "0         Action           34.82\n",
       "10        Sports           27.82\n",
       "7   Role-Playing           17.21\n",
       "6         Racing            6.52"
      ]
     },
     "execution_count": 49,
     "metadata": {},
     "output_type": "execute_result"
    }
   ],
   "source": [
    "EU_genre_data = new_games[['genre', 'EU_sales']].groupby('genre').sum().reset_index()#finding sum of sales by genre\n",
    "EU_genre_data.columns = ['genre', 'total_EU_sales']\n",
    "EU_genre_data.sort_values(by='total_EU_sales', ascending=False, inplace=True)#sorting in descending order\n",
    "EU_genre_data.head() #printing top 5 values"
   ]
  },
  {
   "cell_type": "markdown",
   "metadata": {},
   "source": [
    "Europe shares most of the same popular genres as North America. The main difference is that Racing is in the top five for Europe instead of role playing."
   ]
  },
  {
   "cell_type": "code",
   "execution_count": 50,
   "metadata": {},
   "outputs": [
    {
     "data": {
      "text/html": [
       "<div>\n",
       "<style scoped>\n",
       "    .dataframe tbody tr th:only-of-type {\n",
       "        vertical-align: middle;\n",
       "    }\n",
       "\n",
       "    .dataframe tbody tr th {\n",
       "        vertical-align: top;\n",
       "    }\n",
       "\n",
       "    .dataframe thead th {\n",
       "        text-align: right;\n",
       "    }\n",
       "</style>\n",
       "<table border=\"1\" class=\"dataframe\">\n",
       "  <thead>\n",
       "    <tr style=\"text-align: right;\">\n",
       "      <th></th>\n",
       "      <th>genre</th>\n",
       "      <th>total_JP_sales</th>\n",
       "    </tr>\n",
       "  </thead>\n",
       "  <tbody>\n",
       "    <tr>\n",
       "      <td>0</td>\n",
       "      <td>Action</td>\n",
       "      <td>23.05</td>\n",
       "    </tr>\n",
       "    <tr>\n",
       "      <td>7</td>\n",
       "      <td>Role-Playing</td>\n",
       "      <td>13.41</td>\n",
       "    </tr>\n",
       "    <tr>\n",
       "      <td>8</td>\n",
       "      <td>Shooter</td>\n",
       "      <td>3.79</td>\n",
       "    </tr>\n",
       "    <tr>\n",
       "      <td>3</td>\n",
       "      <td>Misc</td>\n",
       "      <td>3.19</td>\n",
       "    </tr>\n",
       "    <tr>\n",
       "      <td>1</td>\n",
       "      <td>Adventure</td>\n",
       "      <td>2.22</td>\n",
       "    </tr>\n",
       "  </tbody>\n",
       "</table>\n",
       "</div>"
      ],
      "text/plain": [
       "          genre  total_JP_sales\n",
       "0        Action           23.05\n",
       "7  Role-Playing           13.41\n",
       "8       Shooter            3.79\n",
       "3          Misc            3.19\n",
       "1     Adventure            2.22"
      ]
     },
     "execution_count": 50,
     "metadata": {},
     "output_type": "execute_result"
    }
   ],
   "source": [
    "JP_genre_data = new_games[['genre', 'JP_sales']].groupby('genre').sum().reset_index()#finding sum of sales by genre\n",
    "JP_genre_data.columns = ['genre', 'total_JP_sales']\n",
    "JP_genre_data.sort_values(by='total_JP_sales', ascending=False, inplace=True)#sorting in descending order\n",
    "JP_genre_data.head() #printing top 5 values"
   ]
  },
  {
   "cell_type": "markdown",
   "metadata": {},
   "source": [
    "Japan actually favors very different genres than those of other locations. We can see that Role-playing is actually the most popular, followed by action, miscellaneous, sports and finally platforming."
   ]
  },
  {
   "cell_type": "markdown",
   "metadata": {},
   "source": [
    "Do ESRB ratings affect sales in individual regions"
   ]
  },
  {
   "cell_type": "code",
   "execution_count": 51,
   "metadata": {
    "scrolled": true
   },
   "outputs": [
    {
     "data": {
      "text/html": [
       "<div>\n",
       "<style scoped>\n",
       "    .dataframe tbody tr th:only-of-type {\n",
       "        vertical-align: middle;\n",
       "    }\n",
       "\n",
       "    .dataframe tbody tr th {\n",
       "        vertical-align: top;\n",
       "    }\n",
       "\n",
       "    .dataframe thead th {\n",
       "        text-align: right;\n",
       "    }\n",
       "</style>\n",
       "<table border=\"1\" class=\"dataframe\">\n",
       "  <thead>\n",
       "    <tr style=\"text-align: right;\">\n",
       "      <th></th>\n",
       "      <th>rating</th>\n",
       "      <th>total_NA_sales</th>\n",
       "    </tr>\n",
       "  </thead>\n",
       "  <tbody>\n",
       "    <tr>\n",
       "      <td>2</td>\n",
       "      <td>M</td>\n",
       "      <td>47.03</td>\n",
       "    </tr>\n",
       "    <tr>\n",
       "      <td>3</td>\n",
       "      <td>None</td>\n",
       "      <td>37.44</td>\n",
       "    </tr>\n",
       "    <tr>\n",
       "      <td>0</td>\n",
       "      <td>E</td>\n",
       "      <td>26.59</td>\n",
       "    </tr>\n",
       "    <tr>\n",
       "      <td>4</td>\n",
       "      <td>T</td>\n",
       "      <td>22.86</td>\n",
       "    </tr>\n",
       "    <tr>\n",
       "      <td>1</td>\n",
       "      <td>E10+</td>\n",
       "      <td>17.87</td>\n",
       "    </tr>\n",
       "  </tbody>\n",
       "</table>\n",
       "</div>"
      ],
      "text/plain": [
       "  rating  total_NA_sales\n",
       "2      M           47.03\n",
       "3   None           37.44\n",
       "0      E           26.59\n",
       "4      T           22.86\n",
       "1   E10+           17.87"
      ]
     },
     "execution_count": 51,
     "metadata": {},
     "output_type": "execute_result"
    }
   ],
   "source": [
    "NA_rating_data = new_games[['rating', 'NA_sales']].groupby('rating').sum().reset_index() #finding sum of sales by rating\n",
    "NA_rating_data.columns = ['rating', 'total_NA_sales']\n",
    "NA_rating_data.sort_values(by='total_NA_sales', ascending=False, inplace=True)#sorting in descending order\n",
    "NA_rating_data.head() #printing top 5 values"
   ]
  },
  {
   "cell_type": "markdown",
   "metadata": {},
   "source": [
    "We can see that E has the highest overall sales, following by mature and teen. E10+ is the least popular, but this may be due to it being a less common rating overall."
   ]
  },
  {
   "cell_type": "code",
   "execution_count": 52,
   "metadata": {
    "scrolled": true
   },
   "outputs": [
    {
     "data": {
      "text/html": [
       "<div>\n",
       "<style scoped>\n",
       "    .dataframe tbody tr th:only-of-type {\n",
       "        vertical-align: middle;\n",
       "    }\n",
       "\n",
       "    .dataframe tbody tr th {\n",
       "        vertical-align: top;\n",
       "    }\n",
       "\n",
       "    .dataframe thead th {\n",
       "        text-align: right;\n",
       "    }\n",
       "</style>\n",
       "<table border=\"1\" class=\"dataframe\">\n",
       "  <thead>\n",
       "    <tr style=\"text-align: right;\">\n",
       "      <th></th>\n",
       "      <th>rating</th>\n",
       "      <th>total_EU_sales</th>\n",
       "    </tr>\n",
       "  </thead>\n",
       "  <tbody>\n",
       "    <tr>\n",
       "      <td>2</td>\n",
       "      <td>M</td>\n",
       "      <td>45.54</td>\n",
       "    </tr>\n",
       "    <tr>\n",
       "      <td>3</td>\n",
       "      <td>None</td>\n",
       "      <td>35.71</td>\n",
       "    </tr>\n",
       "    <tr>\n",
       "      <td>0</td>\n",
       "      <td>E</td>\n",
       "      <td>34.83</td>\n",
       "    </tr>\n",
       "    <tr>\n",
       "      <td>4</td>\n",
       "      <td>T</td>\n",
       "      <td>20.32</td>\n",
       "    </tr>\n",
       "    <tr>\n",
       "      <td>1</td>\n",
       "      <td>E10+</td>\n",
       "      <td>11.54</td>\n",
       "    </tr>\n",
       "  </tbody>\n",
       "</table>\n",
       "</div>"
      ],
      "text/plain": [
       "  rating  total_EU_sales\n",
       "2      M           45.54\n",
       "3   None           35.71\n",
       "0      E           34.83\n",
       "4      T           20.32\n",
       "1   E10+           11.54"
      ]
     },
     "execution_count": 52,
     "metadata": {},
     "output_type": "execute_result"
    }
   ],
   "source": [
    "EU_rating_data = new_games[['rating', 'EU_sales']].groupby('rating').sum().reset_index()#finding sum of sales by rating\n",
    "EU_rating_data.columns = ['rating', 'total_EU_sales']\n",
    "EU_rating_data.sort_values(by='total_EU_sales', ascending=False, inplace=True)#sorting in descending order\n",
    "EU_rating_data.head() #printing top 5 values"
   ]
  },
  {
   "cell_type": "markdown",
   "metadata": {},
   "source": [
    "We see that Europe shares the same popularity across ratings as North America."
   ]
  },
  {
   "cell_type": "code",
   "execution_count": 53,
   "metadata": {
    "scrolled": false
   },
   "outputs": [
    {
     "data": {
      "text/html": [
       "<div>\n",
       "<style scoped>\n",
       "    .dataframe tbody tr th:only-of-type {\n",
       "        vertical-align: middle;\n",
       "    }\n",
       "\n",
       "    .dataframe tbody tr th {\n",
       "        vertical-align: top;\n",
       "    }\n",
       "\n",
       "    .dataframe thead th {\n",
       "        text-align: right;\n",
       "    }\n",
       "</style>\n",
       "<table border=\"1\" class=\"dataframe\">\n",
       "  <thead>\n",
       "    <tr style=\"text-align: right;\">\n",
       "      <th></th>\n",
       "      <th>rating</th>\n",
       "      <th>total_JP_sales</th>\n",
       "    </tr>\n",
       "  </thead>\n",
       "  <tbody>\n",
       "    <tr>\n",
       "      <td>3</td>\n",
       "      <td>None</td>\n",
       "      <td>32.89</td>\n",
       "    </tr>\n",
       "    <tr>\n",
       "      <td>4</td>\n",
       "      <td>T</td>\n",
       "      <td>7.70</td>\n",
       "    </tr>\n",
       "    <tr>\n",
       "      <td>0</td>\n",
       "      <td>E</td>\n",
       "      <td>5.25</td>\n",
       "    </tr>\n",
       "    <tr>\n",
       "      <td>2</td>\n",
       "      <td>M</td>\n",
       "      <td>4.29</td>\n",
       "    </tr>\n",
       "    <tr>\n",
       "      <td>1</td>\n",
       "      <td>E10+</td>\n",
       "      <td>3.27</td>\n",
       "    </tr>\n",
       "  </tbody>\n",
       "</table>\n",
       "</div>"
      ],
      "text/plain": [
       "  rating  total_JP_sales\n",
       "3   None           32.89\n",
       "4      T            7.70\n",
       "0      E            5.25\n",
       "2      M            4.29\n",
       "1   E10+            3.27"
      ]
     },
     "execution_count": 53,
     "metadata": {},
     "output_type": "execute_result"
    }
   ],
   "source": [
    "JP_rating_data = new_games[['rating', 'JP_sales']].groupby('rating').sum().reset_index()#finding sum of sales by rating\n",
    "JP_rating_data.columns = ['rating', 'total_JP_sales']\n",
    "JP_rating_data.sort_values(by='total_JP_sales', ascending=False, inplace=True)#sorting in descending order\n",
    "JP_rating_data.head() #printing top 5 values"
   ]
  },
  {
   "cell_type": "markdown",
   "metadata": {},
   "source": [
    "It seems that games that never received a rating make up a much larger portion of Japan sales than it does in the other regions. However, the other ratings seem to be arranged in the same order. "
   ]
  },
  {
   "cell_type": "markdown",
   "metadata": {},
   "source": [
    "Overall we can see that Europe and North America tend to have very similar markets, and that Japan does differ some, but for the most part if a title succeeds in one region it will tend to do well in the others as well. "
   ]
  },
  {
   "cell_type": "markdown",
   "metadata": {},
   "source": [
    "## Testing Hypotheses\n",
    "In this section we will be testing two hypotheses. \n",
    "\n",
    "—Average user ratings of the Xbox One and PC platforms are the same.\n",
    "\n",
    "—Average user ratings for the Action and Sports genres are different."
   ]
  },
  {
   "cell_type": "markdown",
   "metadata": {},
   "source": [
    "### Xbox One vs PC Ratings\n",
    "First we will test that average user ratings for Xbox One and PC are the same.\n",
    "\n",
    "We will use 5% as our alpha value, as a standard for statistical significance. \n",
    "\n",
    "We will use the individual t-test, which is is a two-sided test for the null hypothesis that 2 independent samples have identical average (expected) values."
   ]
  },
  {
   "cell_type": "markdown",
   "metadata": {},
   "source": [
    "**H0:** There is no difference in average user ratings between Xbox One and PC platforms.\n",
    "\n",
    "**H1:** There is a difference in average user ratings between Xbox One and PC platforms"
   ]
  },
  {
   "cell_type": "code",
   "execution_count": 54,
   "metadata": {},
   "outputs": [],
   "source": [
    "xone_data = new_games.query('platform == \"XOne\"')\n",
    "pc_data = new_games.query('platform == \"PC\"')\n",
    "\n",
    "xone_user_score = xone_data['user_score']\n",
    "pc_user_score = pc_data['user_score']"
   ]
  },
  {
   "cell_type": "code",
   "execution_count": 55,
   "metadata": {
    "scrolled": true
   },
   "outputs": [
    {
     "name": "stdout",
     "output_type": "stream",
     "text": [
      "p-value: 0.2778542084733873\n",
      "We can't reject the null hypothesis\n"
     ]
    }
   ],
   "source": [
    "alpha = 0.05 #set a critical statistical significance level\n",
    "\n",
    "results1 = st.ttest_ind(xone_user_score, pc_user_score, nan_policy='omit') # conduct the test and calculate the p-value\n",
    "\n",
    "print('p-value:', results1.pvalue)\n",
    "\n",
    "if results1.pvalue < alpha:\n",
    "    print(\"We reject the null hypothesis\")\n",
    "else:\n",
    "    print(\"We can't reject the null hypothesis\")"
   ]
  },
  {
   "cell_type": "markdown",
   "metadata": {},
   "source": [
    "Since we cannot reject our null hypothesis, we can conclude that there is not a statistically significant difference between user ratings for games on the XBox one vs PC. We are not able to tell in what way it is affected based solely on this test, but this gives us opportunity for future investigation if this information is deemed useful."
   ]
  },
  {
   "cell_type": "markdown",
   "metadata": {},
   "source": [
    "### Action vs Sports Ratings\n",
    "Now we will test that average user ratings for Action and Sports genres are different.\n",
    "\n",
    "We will use 5% as our alpha value, as a standard for statistical significance. \n",
    "\n",
    "We will use the individual t-test, which is is a two-sided test for the null hypothesis that 2 independent samples have identical average (expected) values."
   ]
  },
  {
   "cell_type": "markdown",
   "metadata": {},
   "source": [
    "**H0:** There is no difference in average user ratings between Sports and Action genres.\n",
    "\n",
    "**H1:** There is a difference in average user ratings between Sports and Action genres."
   ]
  },
  {
   "cell_type": "code",
   "execution_count": 56,
   "metadata": {},
   "outputs": [],
   "source": [
    "action_data = new_games.query('genre == \"Action\"')\n",
    "sports_data = new_games.query('genre == \"Sports\"')\n",
    "\n",
    "action_user_score = action_data['user_score']\n",
    "sports_user_score = sports_data['user_score']"
   ]
  },
  {
   "cell_type": "code",
   "execution_count": 57,
   "metadata": {},
   "outputs": [
    {
     "name": "stdout",
     "output_type": "stream",
     "text": [
      "p-value: 1.0012846807938715e-13\n",
      "We reject the null hypothesis\n"
     ]
    }
   ],
   "source": [
    "alpha = 0.05 # set a critical statistical significance level\n",
    "\n",
    "results2 = st.ttest_ind(action_user_score, sports_user_score, nan_policy='omit') #conduct the test and calculate the p-value\n",
    "\n",
    "print('p-value:', results2.pvalue)\n",
    "\n",
    "if results2.pvalue < alpha:\n",
    "    print(\"We reject the null hypothesis\")\n",
    "else:\n",
    "    print(\"We can't reject the null hypothesis\")"
   ]
  },
  {
   "cell_type": "markdown",
   "metadata": {},
   "source": [
    "Since we rejected our null hypothesis, this confirms that there is a statistically significant difference in user score for Action vs Sports. This confirms our individual hypothesis, but we do not have the data to understand why there is a difference. Perhaps this is because players of the games have different standards for what a good action vs sports game is."
   ]
  },
  {
   "cell_type": "markdown",
   "metadata": {},
   "source": [
    "## Conclusion"
   ]
  },
  {
   "cell_type": "markdown",
   "metadata": {},
   "source": [
    "In this analysis we cleaned our data by removing unnecessary data. We selected games made since 2014, but only consoles from the most recent decade. We elected not to replace missing values for our ratings, since there would not be an accurate way to replace them based on the data we were given.\n",
    "\n",
    "We conducted our analysis and found that the average lifespan of a platform is just under ten years, and were able to see that PS4 and Xbox One were the consoles that were the most likely to have an increase in sales in the upcoming year. It would be our recommendation to pursue creating games under those two platforms.\n",
    "\n",
    "Next we examined sales per region. Our hypothesis was that they would have similar market preferences for rating, platforms and genres. We were partially correct, as North American and European sales were incredibly similar for all aspects, but Japan tended to differ much more significantly. It is our recommedation that if an action or sports game is created it would be better to advertise to North America and Europe, whereas role-playing or platforming games are more likely to be successful in Japan. In addition, handheld console games like the DS and 3DS tend to do better in Japan, whereas consoles like PS4 and Xbox one will do better in North America and Europe.\n",
    "\n",
    "Finally, we used statistical testing to prove that there is not a difference in user rating between platforms, in this case between Xbox One and PC, which proved our hypothesis. We also showed that there is a difference in user rating between action and sports games. \n",
    "\n",
    "All of this information has given us a full understanding of the data, which has allowed us to make accurate predictions for the 2017 year."
   ]
  }
 ],
 "metadata": {
  "ExecuteTimeLog": [
   {
    "duration": 1096,
    "start_time": "2021-12-18T23:10:03.582Z"
   },
   {
    "duration": 38,
    "start_time": "2021-12-18T23:11:49.514Z"
   },
   {
    "duration": 13,
    "start_time": "2021-12-18T23:13:30.835Z"
   },
   {
    "duration": 303,
    "start_time": "2021-12-18T23:14:02.404Z"
   },
   {
    "duration": 53,
    "start_time": "2021-12-18T23:14:05.484Z"
   },
   {
    "duration": 12,
    "start_time": "2021-12-18T23:14:27.884Z"
   },
   {
    "duration": 9,
    "start_time": "2021-12-18T23:15:05.829Z"
   },
   {
    "duration": 15,
    "start_time": "2021-12-18T23:15:38.974Z"
   },
   {
    "duration": 262,
    "start_time": "2021-12-18T23:17:27.559Z"
   },
   {
    "duration": 16,
    "start_time": "2021-12-18T23:17:55.374Z"
   },
   {
    "duration": 6,
    "start_time": "2021-12-18T23:20:04.249Z"
   },
   {
    "duration": 5,
    "start_time": "2021-12-18T23:34:39.275Z"
   },
   {
    "duration": 3,
    "start_time": "2021-12-18T23:34:45.422Z"
   },
   {
    "duration": 5,
    "start_time": "2021-12-18T23:37:38.968Z"
   },
   {
    "duration": 5,
    "start_time": "2021-12-18T23:41:00.411Z"
   },
   {
    "duration": 4523,
    "start_time": "2021-12-18T23:42:05.516Z"
   },
   {
    "duration": 6,
    "start_time": "2021-12-18T23:42:15.510Z"
   },
   {
    "duration": 11,
    "start_time": "2021-12-18T23:43:05.934Z"
   },
   {
    "duration": 5704,
    "start_time": "2021-12-18T23:44:10.199Z"
   },
   {
    "duration": 19,
    "start_time": "2021-12-18T23:44:35.480Z"
   },
   {
    "duration": 22,
    "start_time": "2021-12-18T23:45:33.984Z"
   },
   {
    "duration": 10,
    "start_time": "2021-12-18T23:47:41.578Z"
   },
   {
    "duration": 4,
    "start_time": "2021-12-18T23:54:33.769Z"
   },
   {
    "duration": 11,
    "start_time": "2021-12-18T23:54:44.542Z"
   },
   {
    "duration": 1018,
    "start_time": "2021-12-18T23:55:01.763Z"
   },
   {
    "duration": 38,
    "start_time": "2021-12-18T23:55:02.783Z"
   },
   {
    "duration": 10,
    "start_time": "2021-12-18T23:55:02.823Z"
   },
   {
    "duration": 57,
    "start_time": "2021-12-18T23:55:02.835Z"
   },
   {
    "duration": 4,
    "start_time": "2021-12-18T23:55:02.894Z"
   },
   {
    "duration": 18,
    "start_time": "2021-12-18T23:55:02.900Z"
   },
   {
    "duration": 10,
    "start_time": "2021-12-18T23:55:02.919Z"
   },
   {
    "duration": 280,
    "start_time": "2021-12-18T23:55:02.931Z"
   },
   {
    "duration": 15,
    "start_time": "2021-12-18T23:55:03.213Z"
   },
   {
    "duration": 4,
    "start_time": "2021-12-18T23:55:03.230Z"
   },
   {
    "duration": 7,
    "start_time": "2021-12-18T23:55:03.235Z"
   },
   {
    "duration": 14,
    "start_time": "2021-12-18T23:55:03.243Z"
   },
   {
    "duration": 34,
    "start_time": "2021-12-18T23:55:03.258Z"
   },
   {
    "duration": 10,
    "start_time": "2021-12-18T23:55:03.293Z"
   },
   {
    "duration": 17,
    "start_time": "2021-12-19T00:07:00.325Z"
   },
   {
    "duration": 258,
    "start_time": "2021-12-19T00:18:18.048Z"
   },
   {
    "duration": 8,
    "start_time": "2021-12-19T00:18:26.350Z"
   },
   {
    "duration": 4,
    "start_time": "2021-12-19T00:18:34.400Z"
   },
   {
    "duration": 8,
    "start_time": "2021-12-19T00:18:45.968Z"
   },
   {
    "duration": 6,
    "start_time": "2021-12-19T00:18:51.712Z"
   },
   {
    "duration": 6,
    "start_time": "2021-12-19T00:19:15.856Z"
   },
   {
    "duration": 5,
    "start_time": "2021-12-19T00:19:27.664Z"
   },
   {
    "duration": 6,
    "start_time": "2021-12-19T00:19:29.673Z"
   },
   {
    "duration": 4,
    "start_time": "2021-12-19T00:21:48.890Z"
   },
   {
    "duration": 5,
    "start_time": "2021-12-19T00:23:12.164Z"
   },
   {
    "duration": 192,
    "start_time": "2021-12-19T00:24:35.541Z"
   },
   {
    "duration": 5,
    "start_time": "2021-12-19T00:25:00.639Z"
   },
   {
    "duration": 6,
    "start_time": "2021-12-19T00:25:16.510Z"
   },
   {
    "duration": 782,
    "start_time": "2021-12-19T00:25:42.094Z"
   },
   {
    "duration": 6,
    "start_time": "2021-12-19T00:25:52.320Z"
   },
   {
    "duration": 7,
    "start_time": "2021-12-19T00:26:01.774Z"
   },
   {
    "duration": 6,
    "start_time": "2021-12-19T00:27:53.655Z"
   },
   {
    "duration": 15,
    "start_time": "2021-12-19T00:34:34.743Z"
   },
   {
    "duration": 16,
    "start_time": "2021-12-19T00:35:25.534Z"
   },
   {
    "duration": 17,
    "start_time": "2021-12-19T00:41:39.549Z"
   },
   {
    "duration": 14,
    "start_time": "2021-12-19T00:41:56.158Z"
   },
   {
    "duration": 33,
    "start_time": "2021-12-19T00:49:04.825Z"
   },
   {
    "duration": 12,
    "start_time": "2021-12-19T00:49:11.301Z"
   },
   {
    "duration": 176,
    "start_time": "2021-12-19T00:52:28.208Z"
   },
   {
    "duration": 17,
    "start_time": "2021-12-19T00:52:36.095Z"
   },
   {
    "duration": 24,
    "start_time": "2021-12-19T00:52:47.111Z"
   },
   {
    "duration": 12,
    "start_time": "2021-12-19T00:53:17.602Z"
   },
   {
    "duration": 171,
    "start_time": "2021-12-19T00:53:25.050Z"
   },
   {
    "duration": 197,
    "start_time": "2021-12-19T00:53:37.010Z"
   },
   {
    "duration": 14,
    "start_time": "2021-12-19T00:55:18.915Z"
   },
   {
    "duration": 12,
    "start_time": "2021-12-19T01:21:57.659Z"
   },
   {
    "duration": 418,
    "start_time": "2021-12-19T01:22:35.004Z"
   },
   {
    "duration": 184,
    "start_time": "2021-12-19T01:22:39.757Z"
   },
   {
    "duration": 157,
    "start_time": "2021-12-19T01:25:11.822Z"
   },
   {
    "duration": 156,
    "start_time": "2021-12-19T01:25:15.688Z"
   },
   {
    "duration": 16,
    "start_time": "2021-12-19T01:27:03.281Z"
   },
   {
    "duration": 16,
    "start_time": "2021-12-19T01:27:20.392Z"
   },
   {
    "duration": 361,
    "start_time": "2021-12-19T01:28:21.258Z"
   },
   {
    "duration": 255,
    "start_time": "2021-12-19T01:29:37.501Z"
   },
   {
    "duration": 410,
    "start_time": "2021-12-19T01:31:40.683Z"
   },
   {
    "duration": 698,
    "start_time": "2021-12-19T01:31:58.713Z"
   },
   {
    "duration": 999,
    "start_time": "2021-12-19T01:32:39.262Z"
   },
   {
    "duration": 897,
    "start_time": "2021-12-19T01:35:02.191Z"
   },
   {
    "duration": 213,
    "start_time": "2021-12-19T01:38:48.242Z"
   },
   {
    "duration": 233,
    "start_time": "2021-12-19T01:38:57.912Z"
   },
   {
    "duration": 185,
    "start_time": "2021-12-19T01:39:07.747Z"
   },
   {
    "duration": 4,
    "start_time": "2021-12-19T01:39:28.348Z"
   },
   {
    "duration": 11,
    "start_time": "2021-12-19T01:39:30.153Z"
   },
   {
    "duration": 467,
    "start_time": "2021-12-19T01:39:54.445Z"
   },
   {
    "duration": 22378,
    "start_time": "2021-12-19T01:43:11.524Z"
   },
   {
    "duration": 22376,
    "start_time": "2021-12-19T01:43:11.526Z"
   },
   {
    "duration": 22376,
    "start_time": "2021-12-19T01:43:11.527Z"
   },
   {
    "duration": 3,
    "start_time": "2021-12-19T01:43:39.975Z"
   },
   {
    "duration": 13,
    "start_time": "2021-12-19T01:43:40.766Z"
   },
   {
    "duration": 364,
    "start_time": "2021-12-19T01:43:41.582Z"
   },
   {
    "duration": 386,
    "start_time": "2021-12-19T01:45:05.608Z"
   },
   {
    "duration": 12,
    "start_time": "2021-12-19T01:54:04.953Z"
   },
   {
    "duration": 12,
    "start_time": "2021-12-19T02:23:15.976Z"
   },
   {
    "duration": 424,
    "start_time": "2021-12-19T02:24:09.739Z"
   },
   {
    "duration": 6,
    "start_time": "2021-12-19T02:25:30.340Z"
   },
   {
    "duration": 325,
    "start_time": "2021-12-19T02:25:31.773Z"
   },
   {
    "duration": 14,
    "start_time": "2021-12-19T02:26:03.013Z"
   },
   {
    "duration": 434,
    "start_time": "2021-12-19T02:26:03.812Z"
   },
   {
    "duration": 8,
    "start_time": "2021-12-19T02:30:46.737Z"
   },
   {
    "duration": 711,
    "start_time": "2021-12-19T02:32:19.636Z"
   },
   {
    "duration": 586,
    "start_time": "2021-12-19T02:32:42.186Z"
   },
   {
    "duration": 570,
    "start_time": "2021-12-19T02:32:53.708Z"
   },
   {
    "duration": 691,
    "start_time": "2021-12-19T02:33:08.772Z"
   },
   {
    "duration": 635,
    "start_time": "2021-12-19T02:33:22.566Z"
   },
   {
    "duration": 662,
    "start_time": "2021-12-19T02:33:38.060Z"
   },
   {
    "duration": 619,
    "start_time": "2021-12-19T02:33:44.492Z"
   },
   {
    "duration": 11,
    "start_time": "2021-12-19T02:34:38.324Z"
   },
   {
    "duration": 504,
    "start_time": "2021-12-19T02:34:40.061Z"
   },
   {
    "duration": 3,
    "start_time": "2021-12-19T02:35:20.429Z"
   },
   {
    "duration": 10,
    "start_time": "2021-12-19T02:35:22.142Z"
   },
   {
    "duration": 382,
    "start_time": "2021-12-19T02:35:22.798Z"
   },
   {
    "duration": 193,
    "start_time": "2021-12-19T02:41:27.587Z"
   },
   {
    "duration": 6,
    "start_time": "2021-12-19T02:41:34.517Z"
   },
   {
    "duration": 196,
    "start_time": "2021-12-19T02:42:06.619Z"
   },
   {
    "duration": 273,
    "start_time": "2021-12-19T02:42:24.924Z"
   },
   {
    "duration": 272,
    "start_time": "2021-12-19T02:42:30.356Z"
   },
   {
    "duration": 259,
    "start_time": "2021-12-19T02:43:14.332Z"
   },
   {
    "duration": 311,
    "start_time": "2021-12-19T02:43:35.469Z"
   },
   {
    "duration": 264,
    "start_time": "2021-12-19T02:43:54.253Z"
   },
   {
    "duration": 266,
    "start_time": "2021-12-19T02:44:06.517Z"
   },
   {
    "duration": 6,
    "start_time": "2021-12-19T02:53:06.404Z"
   },
   {
    "duration": 10,
    "start_time": "2021-12-19T02:59:03.018Z"
   },
   {
    "duration": 200,
    "start_time": "2021-12-19T03:01:04.692Z"
   },
   {
    "duration": 6,
    "start_time": "2021-12-19T03:01:19.428Z"
   },
   {
    "duration": 387,
    "start_time": "2021-12-19T03:05:46.622Z"
   },
   {
    "duration": 586,
    "start_time": "2021-12-19T03:05:54.457Z"
   },
   {
    "duration": 201,
    "start_time": "2021-12-19T03:06:36.473Z"
   },
   {
    "duration": 540,
    "start_time": "2021-12-19T03:07:38.546Z"
   },
   {
    "duration": 865,
    "start_time": "2021-12-19T03:07:40.042Z"
   },
   {
    "duration": 767,
    "start_time": "2021-12-19T03:08:06.483Z"
   },
   {
    "duration": 768,
    "start_time": "2021-12-19T03:08:13.225Z"
   },
   {
    "duration": 1062,
    "start_time": "2021-12-19T03:09:12.931Z"
   },
   {
    "duration": 946,
    "start_time": "2021-12-19T03:09:17.435Z"
   },
   {
    "duration": 217,
    "start_time": "2021-12-19T03:09:36.539Z"
   },
   {
    "duration": 187,
    "start_time": "2021-12-19T03:09:53.915Z"
   },
   {
    "duration": 197,
    "start_time": "2021-12-19T03:10:04.757Z"
   },
   {
    "duration": 184,
    "start_time": "2021-12-19T03:11:02.703Z"
   },
   {
    "duration": 183,
    "start_time": "2021-12-19T03:11:06.357Z"
   },
   {
    "duration": 990,
    "start_time": "2021-12-19T16:35:43.361Z"
   },
   {
    "duration": 37,
    "start_time": "2021-12-19T16:35:44.353Z"
   },
   {
    "duration": 10,
    "start_time": "2021-12-19T16:35:44.393Z"
   },
   {
    "duration": 56,
    "start_time": "2021-12-19T16:35:44.405Z"
   },
   {
    "duration": 5,
    "start_time": "2021-12-19T16:35:44.463Z"
   },
   {
    "duration": 33,
    "start_time": "2021-12-19T16:35:44.470Z"
   },
   {
    "duration": 20,
    "start_time": "2021-12-19T16:35:44.505Z"
   },
   {
    "duration": 274,
    "start_time": "2021-12-19T16:35:44.528Z"
   },
   {
    "duration": 16,
    "start_time": "2021-12-19T16:35:44.804Z"
   },
   {
    "duration": 4,
    "start_time": "2021-12-19T16:35:44.822Z"
   },
   {
    "duration": 5,
    "start_time": "2021-12-19T16:35:44.827Z"
   },
   {
    "duration": 11,
    "start_time": "2021-12-19T16:35:44.834Z"
   },
   {
    "duration": 7,
    "start_time": "2021-12-19T16:35:44.846Z"
   },
   {
    "duration": 42,
    "start_time": "2021-12-19T16:35:44.854Z"
   },
   {
    "duration": 14,
    "start_time": "2021-12-19T16:35:44.898Z"
   },
   {
    "duration": 4,
    "start_time": "2021-12-19T16:35:44.914Z"
   },
   {
    "duration": 8,
    "start_time": "2021-12-19T16:35:44.919Z"
   },
   {
    "duration": 5,
    "start_time": "2021-12-19T16:35:44.928Z"
   },
   {
    "duration": 7,
    "start_time": "2021-12-19T16:35:44.935Z"
   },
   {
    "duration": 48,
    "start_time": "2021-12-19T16:35:44.944Z"
   },
   {
    "duration": 8,
    "start_time": "2021-12-19T16:35:44.995Z"
   },
   {
    "duration": 14,
    "start_time": "2021-12-19T16:35:45.005Z"
   },
   {
    "duration": 8,
    "start_time": "2021-12-19T16:35:45.024Z"
   },
   {
    "duration": 22,
    "start_time": "2021-12-19T16:35:45.035Z"
   },
   {
    "duration": 12,
    "start_time": "2021-12-19T16:35:45.091Z"
   },
   {
    "duration": 13,
    "start_time": "2021-12-19T16:35:45.105Z"
   },
   {
    "duration": 2,
    "start_time": "2021-12-19T16:35:45.120Z"
   },
   {
    "duration": 12,
    "start_time": "2021-12-19T16:35:45.124Z"
   },
   {
    "duration": 423,
    "start_time": "2021-12-19T16:35:45.137Z"
   },
   {
    "duration": 15,
    "start_time": "2021-12-19T16:35:45.562Z"
   },
   {
    "duration": 437,
    "start_time": "2021-12-19T16:35:45.579Z"
   },
   {
    "duration": 3,
    "start_time": "2021-12-19T16:35:46.017Z"
   },
   {
    "duration": 13,
    "start_time": "2021-12-19T16:35:46.022Z"
   },
   {
    "duration": 404,
    "start_time": "2021-12-19T16:35:46.036Z"
   },
   {
    "duration": 5,
    "start_time": "2021-12-19T16:35:46.442Z"
   },
   {
    "duration": 354,
    "start_time": "2021-12-19T16:35:46.450Z"
   },
   {
    "duration": 311,
    "start_time": "2021-12-19T16:35:46.806Z"
   },
   {
    "duration": 5,
    "start_time": "2021-12-19T16:35:47.119Z"
   },
   {
    "duration": 11,
    "start_time": "2021-12-19T16:35:47.125Z"
   },
   {
    "duration": 703,
    "start_time": "2021-12-19T16:35:47.138Z"
   },
   {
    "duration": 829,
    "start_time": "2021-12-19T16:35:47.843Z"
   },
   {
    "duration": 207,
    "start_time": "2021-12-19T16:35:48.674Z"
   },
   {
    "duration": 181,
    "start_time": "2021-12-19T16:37:20.438Z"
   },
   {
    "duration": 4,
    "start_time": "2021-12-19T16:37:26.998Z"
   },
   {
    "duration": 22,
    "start_time": "2021-12-19T16:37:39.929Z"
   },
   {
    "duration": 18,
    "start_time": "2021-12-19T16:38:49.329Z"
   },
   {
    "duration": 16,
    "start_time": "2021-12-19T16:39:02.538Z"
   },
   {
    "duration": 59,
    "start_time": "2021-12-19T16:39:12.396Z"
   },
   {
    "duration": 18,
    "start_time": "2021-12-19T16:39:20.970Z"
   },
   {
    "duration": 13,
    "start_time": "2021-12-19T16:39:37.388Z"
   },
   {
    "duration": 11,
    "start_time": "2021-12-19T16:39:42.524Z"
   },
   {
    "duration": 12,
    "start_time": "2021-12-19T16:43:41.935Z"
   },
   {
    "duration": 12,
    "start_time": "2021-12-19T16:43:51.671Z"
   },
   {
    "duration": 13,
    "start_time": "2021-12-19T16:44:31.599Z"
   },
   {
    "duration": 11,
    "start_time": "2021-12-19T16:44:38.975Z"
   },
   {
    "duration": 13,
    "start_time": "2021-12-19T16:44:45.759Z"
   },
   {
    "duration": 15,
    "start_time": "2021-12-19T16:44:57.288Z"
   },
   {
    "duration": 9,
    "start_time": "2021-12-19T16:46:34.609Z"
   },
   {
    "duration": 11,
    "start_time": "2021-12-19T16:46:42.522Z"
   },
   {
    "duration": 7,
    "start_time": "2021-12-19T16:48:17.107Z"
   },
   {
    "duration": 14,
    "start_time": "2021-12-19T16:48:24.716Z"
   },
   {
    "duration": 121,
    "start_time": "2021-12-19T16:50:46.052Z"
   },
   {
    "duration": 10,
    "start_time": "2021-12-19T16:50:55.950Z"
   },
   {
    "duration": 14,
    "start_time": "2021-12-19T16:51:03.927Z"
   },
   {
    "duration": 10,
    "start_time": "2021-12-19T16:53:00.745Z"
   },
   {
    "duration": 11,
    "start_time": "2021-12-19T16:55:26.682Z"
   },
   {
    "duration": 216,
    "start_time": "2021-12-19T16:55:58.641Z"
   },
   {
    "duration": 12,
    "start_time": "2021-12-19T16:56:09.084Z"
   },
   {
    "duration": 14,
    "start_time": "2021-12-19T16:56:57.893Z"
   },
   {
    "duration": 15,
    "start_time": "2021-12-19T16:57:12.741Z"
   },
   {
    "duration": 14,
    "start_time": "2021-12-19T16:57:52.997Z"
   },
   {
    "duration": 669,
    "start_time": "2021-12-19T16:58:19.077Z"
   },
   {
    "duration": 184,
    "start_time": "2021-12-19T16:58:38.950Z"
   },
   {
    "duration": 13,
    "start_time": "2021-12-19T16:58:42.903Z"
   },
   {
    "duration": 20,
    "start_time": "2021-12-19T16:59:17.134Z"
   },
   {
    "duration": 17,
    "start_time": "2021-12-19T17:00:04.120Z"
   },
   {
    "duration": 12,
    "start_time": "2021-12-19T17:00:14.863Z"
   },
   {
    "duration": 18,
    "start_time": "2021-12-19T17:00:19.992Z"
   },
   {
    "duration": 15,
    "start_time": "2021-12-19T17:00:56.312Z"
   },
   {
    "duration": 19,
    "start_time": "2021-12-19T17:01:41.497Z"
   },
   {
    "duration": 13,
    "start_time": "2021-12-19T17:03:46.441Z"
   },
   {
    "duration": 718,
    "start_time": "2021-12-19T17:03:53.378Z"
   },
   {
    "duration": 18,
    "start_time": "2021-12-19T17:04:02.364Z"
   },
   {
    "duration": 12,
    "start_time": "2021-12-19T17:07:22.445Z"
   },
   {
    "duration": 12,
    "start_time": "2021-12-19T17:16:26.907Z"
   },
   {
    "duration": 12,
    "start_time": "2021-12-19T17:17:14.220Z"
   },
   {
    "duration": 13,
    "start_time": "2021-12-19T17:27:00.653Z"
   },
   {
    "duration": 192,
    "start_time": "2021-12-19T17:45:56.793Z"
   },
   {
    "duration": 195,
    "start_time": "2021-12-19T17:46:26.904Z"
   },
   {
    "duration": 179,
    "start_time": "2021-12-19T17:47:11.849Z"
   },
   {
    "duration": 8,
    "start_time": "2021-12-19T17:47:16.892Z"
   },
   {
    "duration": 6,
    "start_time": "2021-12-19T17:48:40.405Z"
   },
   {
    "duration": 7,
    "start_time": "2021-12-19T17:49:04.949Z"
   },
   {
    "duration": 9,
    "start_time": "2021-12-19T17:57:57.343Z"
   },
   {
    "duration": 6,
    "start_time": "2021-12-19T17:59:07.640Z"
   },
   {
    "duration": 999,
    "start_time": "2021-12-19T18:06:25.052Z"
   },
   {
    "duration": 38,
    "start_time": "2021-12-19T18:06:26.053Z"
   },
   {
    "duration": 11,
    "start_time": "2021-12-19T18:06:26.094Z"
   },
   {
    "duration": 55,
    "start_time": "2021-12-19T18:06:26.107Z"
   },
   {
    "duration": 5,
    "start_time": "2021-12-19T18:06:26.164Z"
   },
   {
    "duration": 34,
    "start_time": "2021-12-19T18:06:26.171Z"
   },
   {
    "duration": 9,
    "start_time": "2021-12-19T18:06:26.207Z"
   },
   {
    "duration": 290,
    "start_time": "2021-12-19T18:06:26.220Z"
   },
   {
    "duration": 15,
    "start_time": "2021-12-19T18:06:26.512Z"
   },
   {
    "duration": 3,
    "start_time": "2021-12-19T18:06:26.529Z"
   },
   {
    "duration": 5,
    "start_time": "2021-12-19T18:06:26.534Z"
   },
   {
    "duration": 11,
    "start_time": "2021-12-19T18:06:26.541Z"
   },
   {
    "duration": 6,
    "start_time": "2021-12-19T18:06:26.553Z"
   },
   {
    "duration": 37,
    "start_time": "2021-12-19T18:06:26.561Z"
   },
   {
    "duration": 16,
    "start_time": "2021-12-19T18:06:26.600Z"
   },
   {
    "duration": 4,
    "start_time": "2021-12-19T18:06:26.618Z"
   },
   {
    "duration": 9,
    "start_time": "2021-12-19T18:06:26.624Z"
   },
   {
    "duration": 6,
    "start_time": "2021-12-19T18:06:26.635Z"
   },
   {
    "duration": 7,
    "start_time": "2021-12-19T18:06:26.642Z"
   },
   {
    "duration": 43,
    "start_time": "2021-12-19T18:06:26.650Z"
   },
   {
    "duration": 6,
    "start_time": "2021-12-19T18:06:26.695Z"
   },
   {
    "duration": 6,
    "start_time": "2021-12-19T18:06:26.702Z"
   },
   {
    "duration": 5,
    "start_time": "2021-12-19T18:06:26.712Z"
   },
   {
    "duration": 16,
    "start_time": "2021-12-19T18:06:26.719Z"
   },
   {
    "duration": 11,
    "start_time": "2021-12-19T18:06:26.737Z"
   },
   {
    "duration": 54,
    "start_time": "2021-12-19T18:06:26.750Z"
   },
   {
    "duration": 3,
    "start_time": "2021-12-19T18:06:26.805Z"
   },
   {
    "duration": 12,
    "start_time": "2021-12-19T18:06:26.809Z"
   },
   {
    "duration": 406,
    "start_time": "2021-12-19T18:06:26.823Z"
   },
   {
    "duration": 12,
    "start_time": "2021-12-19T18:06:27.231Z"
   },
   {
    "duration": 442,
    "start_time": "2021-12-19T18:06:27.245Z"
   },
   {
    "duration": 3,
    "start_time": "2021-12-19T18:06:27.689Z"
   },
   {
    "duration": 13,
    "start_time": "2021-12-19T18:06:27.693Z"
   },
   {
    "duration": 390,
    "start_time": "2021-12-19T18:06:27.707Z"
   },
   {
    "duration": 7,
    "start_time": "2021-12-19T18:06:28.099Z"
   },
   {
    "duration": 376,
    "start_time": "2021-12-19T18:06:28.107Z"
   },
   {
    "duration": 308,
    "start_time": "2021-12-19T18:06:28.491Z"
   },
   {
    "duration": 5,
    "start_time": "2021-12-19T18:06:28.800Z"
   },
   {
    "duration": 12,
    "start_time": "2021-12-19T18:06:28.807Z"
   },
   {
    "duration": 668,
    "start_time": "2021-12-19T18:06:28.821Z"
   },
   {
    "duration": 805,
    "start_time": "2021-12-19T18:06:29.491Z"
   },
   {
    "duration": 208,
    "start_time": "2021-12-19T18:06:30.297Z"
   },
   {
    "duration": 14,
    "start_time": "2021-12-19T18:06:30.506Z"
   },
   {
    "duration": 19,
    "start_time": "2021-12-19T18:06:30.521Z"
   },
   {
    "duration": 12,
    "start_time": "2021-12-19T18:06:30.541Z"
   },
   {
    "duration": 22,
    "start_time": "2021-12-19T18:06:30.554Z"
   },
   {
    "duration": 13,
    "start_time": "2021-12-19T18:06:30.592Z"
   },
   {
    "duration": 14,
    "start_time": "2021-12-19T18:06:30.607Z"
   },
   {
    "duration": 13,
    "start_time": "2021-12-19T18:06:30.623Z"
   },
   {
    "duration": 14,
    "start_time": "2021-12-19T18:06:30.637Z"
   },
   {
    "duration": 45,
    "start_time": "2021-12-19T18:06:30.653Z"
   },
   {
    "duration": 8,
    "start_time": "2021-12-19T18:06:30.700Z"
   },
   {
    "duration": 14,
    "start_time": "2021-12-19T18:06:30.710Z"
   },
   {
    "duration": 11,
    "start_time": "2021-12-19T18:06:30.726Z"
   },
   {
    "duration": 5,
    "start_time": "2021-12-19T18:06:30.739Z"
   },
   {
    "duration": 1090,
    "start_time": "2021-12-19T18:14:52.081Z"
   },
   {
    "duration": 38,
    "start_time": "2021-12-19T18:14:53.172Z"
   },
   {
    "duration": 10,
    "start_time": "2021-12-19T18:14:53.212Z"
   },
   {
    "duration": 53,
    "start_time": "2021-12-19T18:14:53.224Z"
   },
   {
    "duration": 5,
    "start_time": "2021-12-19T18:14:53.291Z"
   },
   {
    "duration": 16,
    "start_time": "2021-12-19T18:14:53.298Z"
   },
   {
    "duration": 27,
    "start_time": "2021-12-19T18:14:53.315Z"
   },
   {
    "duration": 294,
    "start_time": "2021-12-19T18:14:53.345Z"
   },
   {
    "duration": 15,
    "start_time": "2021-12-19T18:14:53.641Z"
   },
   {
    "duration": 12,
    "start_time": "2021-12-19T18:14:53.657Z"
   },
   {
    "duration": 18,
    "start_time": "2021-12-19T18:14:53.671Z"
   },
   {
    "duration": 28,
    "start_time": "2021-12-19T18:14:53.690Z"
   },
   {
    "duration": 11,
    "start_time": "2021-12-19T18:14:53.720Z"
   },
   {
    "duration": 15,
    "start_time": "2021-12-19T18:14:53.733Z"
   },
   {
    "duration": 13,
    "start_time": "2021-12-19T18:14:53.750Z"
   },
   {
    "duration": 11,
    "start_time": "2021-12-19T18:14:53.765Z"
   },
   {
    "duration": 7,
    "start_time": "2021-12-19T18:14:53.778Z"
   },
   {
    "duration": 7,
    "start_time": "2021-12-19T18:14:53.787Z"
   },
   {
    "duration": 15,
    "start_time": "2021-12-19T18:14:53.796Z"
   },
   {
    "duration": 7,
    "start_time": "2021-12-19T18:14:53.812Z"
   },
   {
    "duration": 17,
    "start_time": "2021-12-19T18:14:53.820Z"
   },
   {
    "duration": 8,
    "start_time": "2021-12-19T18:14:53.839Z"
   },
   {
    "duration": 16,
    "start_time": "2021-12-19T18:14:53.850Z"
   },
   {
    "duration": 32,
    "start_time": "2021-12-19T18:14:53.868Z"
   },
   {
    "duration": 11,
    "start_time": "2021-12-19T18:14:53.902Z"
   },
   {
    "duration": 13,
    "start_time": "2021-12-19T18:14:53.915Z"
   },
   {
    "duration": 3,
    "start_time": "2021-12-19T18:14:53.930Z"
   },
   {
    "duration": 31,
    "start_time": "2021-12-19T18:14:53.935Z"
   },
   {
    "duration": 404,
    "start_time": "2021-12-19T18:14:53.968Z"
   },
   {
    "duration": 21,
    "start_time": "2021-12-19T18:14:54.373Z"
   },
   {
    "duration": 446,
    "start_time": "2021-12-19T18:14:54.396Z"
   },
   {
    "duration": 3,
    "start_time": "2021-12-19T18:14:54.843Z"
   },
   {
    "duration": 18,
    "start_time": "2021-12-19T18:14:54.847Z"
   },
   {
    "duration": 386,
    "start_time": "2021-12-19T18:14:54.866Z"
   },
   {
    "duration": 7,
    "start_time": "2021-12-19T18:14:55.253Z"
   },
   {
    "duration": 350,
    "start_time": "2021-12-19T18:14:55.262Z"
   },
   {
    "duration": 308,
    "start_time": "2021-12-19T18:14:55.614Z"
   },
   {
    "duration": 5,
    "start_time": "2021-12-19T18:14:55.924Z"
   },
   {
    "duration": 12,
    "start_time": "2021-12-19T18:14:55.930Z"
   },
   {
    "duration": 643,
    "start_time": "2021-12-19T18:14:55.943Z"
   },
   {
    "duration": 788,
    "start_time": "2021-12-19T18:14:56.588Z"
   },
   {
    "duration": 198,
    "start_time": "2021-12-19T18:14:57.378Z"
   },
   {
    "duration": 16,
    "start_time": "2021-12-19T18:14:57.578Z"
   },
   {
    "duration": 12,
    "start_time": "2021-12-19T18:14:57.595Z"
   },
   {
    "duration": 15,
    "start_time": "2021-12-19T18:14:57.608Z"
   },
   {
    "duration": 15,
    "start_time": "2021-12-19T18:14:57.625Z"
   },
   {
    "duration": 16,
    "start_time": "2021-12-19T18:14:57.641Z"
   },
   {
    "duration": 41,
    "start_time": "2021-12-19T18:14:57.659Z"
   },
   {
    "duration": 12,
    "start_time": "2021-12-19T18:14:57.701Z"
   },
   {
    "duration": 15,
    "start_time": "2021-12-19T18:14:57.715Z"
   },
   {
    "duration": 13,
    "start_time": "2021-12-19T18:14:57.732Z"
   },
   {
    "duration": 44,
    "start_time": "2021-12-19T18:14:57.747Z"
   },
   {
    "duration": 7,
    "start_time": "2021-12-19T18:14:57.793Z"
   },
   {
    "duration": 9,
    "start_time": "2021-12-19T18:14:57.802Z"
   },
   {
    "duration": 6,
    "start_time": "2021-12-19T18:14:57.813Z"
   },
   {
    "duration": 1050,
    "start_time": "2021-12-19T18:15:14.914Z"
   },
   {
    "duration": 37,
    "start_time": "2021-12-19T18:15:15.966Z"
   },
   {
    "duration": 11,
    "start_time": "2021-12-19T18:15:16.005Z"
   },
   {
    "duration": 54,
    "start_time": "2021-12-19T18:15:16.018Z"
   },
   {
    "duration": 20,
    "start_time": "2021-12-19T18:15:16.074Z"
   },
   {
    "duration": 13,
    "start_time": "2021-12-19T18:15:16.096Z"
   },
   {
    "duration": 9,
    "start_time": "2021-12-19T18:15:16.110Z"
   },
   {
    "duration": 291,
    "start_time": "2021-12-19T18:15:16.122Z"
   },
   {
    "duration": 15,
    "start_time": "2021-12-19T18:15:16.415Z"
   },
   {
    "duration": 4,
    "start_time": "2021-12-19T18:15:16.432Z"
   },
   {
    "duration": 6,
    "start_time": "2021-12-19T18:15:16.437Z"
   },
   {
    "duration": 12,
    "start_time": "2021-12-19T18:15:16.445Z"
   },
   {
    "duration": 33,
    "start_time": "2021-12-19T18:15:16.459Z"
   },
   {
    "duration": 10,
    "start_time": "2021-12-19T18:15:16.494Z"
   },
   {
    "duration": 14,
    "start_time": "2021-12-19T18:15:16.506Z"
   },
   {
    "duration": 4,
    "start_time": "2021-12-19T18:15:16.522Z"
   },
   {
    "duration": 6,
    "start_time": "2021-12-19T18:15:16.528Z"
   },
   {
    "duration": 7,
    "start_time": "2021-12-19T18:15:16.536Z"
   },
   {
    "duration": 12,
    "start_time": "2021-12-19T18:15:16.544Z"
   },
   {
    "duration": 34,
    "start_time": "2021-12-19T18:15:16.558Z"
   },
   {
    "duration": 8,
    "start_time": "2021-12-19T18:15:16.594Z"
   },
   {
    "duration": 6,
    "start_time": "2021-12-19T18:15:16.604Z"
   },
   {
    "duration": 6,
    "start_time": "2021-12-19T18:15:16.613Z"
   },
   {
    "duration": 14,
    "start_time": "2021-12-19T18:15:16.621Z"
   },
   {
    "duration": 10,
    "start_time": "2021-12-19T18:15:16.637Z"
   },
   {
    "duration": 45,
    "start_time": "2021-12-19T18:15:16.648Z"
   },
   {
    "duration": 3,
    "start_time": "2021-12-19T18:15:16.694Z"
   },
   {
    "duration": 14,
    "start_time": "2021-12-19T18:15:16.698Z"
   },
   {
    "duration": 406,
    "start_time": "2021-12-19T18:15:16.713Z"
   },
   {
    "duration": 12,
    "start_time": "2021-12-19T18:15:17.121Z"
   },
   {
    "duration": 449,
    "start_time": "2021-12-19T18:15:17.135Z"
   },
   {
    "duration": 3,
    "start_time": "2021-12-19T18:15:17.586Z"
   },
   {
    "duration": 16,
    "start_time": "2021-12-19T18:15:17.592Z"
   },
   {
    "duration": 383,
    "start_time": "2021-12-19T18:15:17.610Z"
   },
   {
    "duration": 6,
    "start_time": "2021-12-19T18:15:17.995Z"
   },
   {
    "duration": 378,
    "start_time": "2021-12-19T18:15:18.003Z"
   },
   {
    "duration": 319,
    "start_time": "2021-12-19T18:15:18.383Z"
   },
   {
    "duration": 6,
    "start_time": "2021-12-19T18:15:18.703Z"
   },
   {
    "duration": 14,
    "start_time": "2021-12-19T18:15:18.711Z"
   },
   {
    "duration": 675,
    "start_time": "2021-12-19T18:15:18.727Z"
   },
   {
    "duration": 797,
    "start_time": "2021-12-19T18:15:19.403Z"
   },
   {
    "duration": 191,
    "start_time": "2021-12-19T18:15:20.202Z"
   },
   {
    "duration": 14,
    "start_time": "2021-12-19T18:15:20.395Z"
   },
   {
    "duration": 12,
    "start_time": "2021-12-19T18:15:20.411Z"
   },
   {
    "duration": 12,
    "start_time": "2021-12-19T18:15:20.425Z"
   },
   {
    "duration": 13,
    "start_time": "2021-12-19T18:15:20.438Z"
   },
   {
    "duration": 50,
    "start_time": "2021-12-19T18:15:20.452Z"
   },
   {
    "duration": 20,
    "start_time": "2021-12-19T18:15:20.504Z"
   },
   {
    "duration": 18,
    "start_time": "2021-12-19T18:15:20.526Z"
   },
   {
    "duration": 14,
    "start_time": "2021-12-19T18:15:20.546Z"
   },
   {
    "duration": 18,
    "start_time": "2021-12-19T18:15:20.562Z"
   },
   {
    "duration": 9,
    "start_time": "2021-12-19T18:15:20.592Z"
   },
   {
    "duration": 23,
    "start_time": "2021-12-19T18:15:20.603Z"
   },
   {
    "duration": 22,
    "start_time": "2021-12-19T18:15:20.628Z"
   },
   {
    "duration": 7,
    "start_time": "2021-12-19T18:15:20.652Z"
   },
   {
    "duration": 302,
    "start_time": "2021-12-19T18:55:40.583Z"
   },
   {
    "duration": 303,
    "start_time": "2021-12-19T18:55:54.863Z"
   },
   {
    "duration": 578,
    "start_time": "2021-12-19T18:56:55.632Z"
   },
   {
    "duration": 410,
    "start_time": "2021-12-19T18:58:10.890Z"
   },
   {
    "duration": 335,
    "start_time": "2021-12-19T18:58:21.090Z"
   },
   {
    "duration": 280,
    "start_time": "2021-12-19T18:58:31.770Z"
   },
   {
    "duration": 249,
    "start_time": "2021-12-19T18:58:39.762Z"
   },
   {
    "duration": 236,
    "start_time": "2021-12-19T18:58:45.626Z"
   },
   {
    "duration": 254,
    "start_time": "2021-12-19T18:58:48.610Z"
   },
   {
    "duration": 284,
    "start_time": "2021-12-19T18:59:11.466Z"
   },
   {
    "duration": 270,
    "start_time": "2021-12-19T18:59:32.426Z"
   },
   {
    "duration": 14,
    "start_time": "2021-12-19T19:02:48.470Z"
   },
   {
    "duration": 13,
    "start_time": "2021-12-19T19:02:54.694Z"
   },
   {
    "duration": 1014,
    "start_time": "2021-12-20T16:01:35.264Z"
   },
   {
    "duration": 37,
    "start_time": "2021-12-20T16:01:36.280Z"
   },
   {
    "duration": 11,
    "start_time": "2021-12-20T16:01:36.319Z"
   },
   {
    "duration": 61,
    "start_time": "2021-12-20T16:01:36.332Z"
   },
   {
    "duration": 4,
    "start_time": "2021-12-20T16:01:36.395Z"
   },
   {
    "duration": 15,
    "start_time": "2021-12-20T16:01:36.400Z"
   },
   {
    "duration": 13,
    "start_time": "2021-12-20T16:01:36.417Z"
   },
   {
    "duration": 356,
    "start_time": "2021-12-20T16:01:36.432Z"
   },
   {
    "duration": 16,
    "start_time": "2021-12-20T16:01:36.790Z"
   },
   {
    "duration": 4,
    "start_time": "2021-12-20T16:01:36.807Z"
   },
   {
    "duration": 16,
    "start_time": "2021-12-20T16:01:36.812Z"
   },
   {
    "duration": 13,
    "start_time": "2021-12-20T16:01:36.830Z"
   },
   {
    "duration": 14,
    "start_time": "2021-12-20T16:01:36.845Z"
   },
   {
    "duration": 15,
    "start_time": "2021-12-20T16:01:36.860Z"
   },
   {
    "duration": 19,
    "start_time": "2021-12-20T16:01:36.876Z"
   },
   {
    "duration": 7,
    "start_time": "2021-12-20T16:01:36.897Z"
   },
   {
    "duration": 5,
    "start_time": "2021-12-20T16:01:36.905Z"
   },
   {
    "duration": 7,
    "start_time": "2021-12-20T16:01:36.911Z"
   },
   {
    "duration": 6,
    "start_time": "2021-12-20T16:01:36.919Z"
   },
   {
    "duration": 8,
    "start_time": "2021-12-20T16:01:36.926Z"
   },
   {
    "duration": 7,
    "start_time": "2021-12-20T16:01:36.935Z"
   },
   {
    "duration": 6,
    "start_time": "2021-12-20T16:01:36.944Z"
   },
   {
    "duration": 47,
    "start_time": "2021-12-20T16:01:36.953Z"
   },
   {
    "duration": 12,
    "start_time": "2021-12-20T16:01:37.001Z"
   },
   {
    "duration": 13,
    "start_time": "2021-12-20T16:01:37.014Z"
   },
   {
    "duration": 3,
    "start_time": "2021-12-20T16:01:37.028Z"
   },
   {
    "duration": 14,
    "start_time": "2021-12-20T16:01:37.032Z"
   },
   {
    "duration": 399,
    "start_time": "2021-12-20T16:01:37.048Z"
   },
   {
    "duration": 12,
    "start_time": "2021-12-20T16:01:37.449Z"
   },
   {
    "duration": 427,
    "start_time": "2021-12-20T16:01:37.462Z"
   },
   {
    "duration": 2,
    "start_time": "2021-12-20T16:01:37.891Z"
   },
   {
    "duration": 13,
    "start_time": "2021-12-20T16:01:37.894Z"
   },
   {
    "duration": 385,
    "start_time": "2021-12-20T16:01:37.909Z"
   },
   {
    "duration": 6,
    "start_time": "2021-12-20T16:01:38.295Z"
   },
   {
    "duration": 391,
    "start_time": "2021-12-20T16:01:38.302Z"
   },
   {
    "duration": 306,
    "start_time": "2021-12-20T16:01:38.695Z"
   },
   {
    "duration": 5,
    "start_time": "2021-12-20T16:01:39.003Z"
   },
   {
    "duration": 9,
    "start_time": "2021-12-20T16:01:39.009Z"
   },
   {
    "duration": 672,
    "start_time": "2021-12-20T16:01:39.020Z"
   },
   {
    "duration": 249,
    "start_time": "2021-12-20T16:01:39.695Z"
   },
   {
    "duration": 299,
    "start_time": "2021-12-20T16:01:39.946Z"
   },
   {
    "duration": 274,
    "start_time": "2021-12-20T16:01:40.247Z"
   },
   {
    "duration": 191,
    "start_time": "2021-12-20T16:01:40.523Z"
   },
   {
    "duration": 14,
    "start_time": "2021-12-20T16:01:40.716Z"
   },
   {
    "duration": 27,
    "start_time": "2021-12-20T16:01:40.732Z"
   },
   {
    "duration": 19,
    "start_time": "2021-12-20T16:01:40.761Z"
   },
   {
    "duration": 25,
    "start_time": "2021-12-20T16:01:40.782Z"
   },
   {
    "duration": 23,
    "start_time": "2021-12-20T16:01:40.808Z"
   },
   {
    "duration": 23,
    "start_time": "2021-12-20T16:01:40.833Z"
   },
   {
    "duration": 28,
    "start_time": "2021-12-20T16:01:40.857Z"
   },
   {
    "duration": 15,
    "start_time": "2021-12-20T16:01:40.887Z"
   },
   {
    "duration": 27,
    "start_time": "2021-12-20T16:01:40.903Z"
   },
   {
    "duration": 12,
    "start_time": "2021-12-20T16:01:40.931Z"
   },
   {
    "duration": 24,
    "start_time": "2021-12-20T16:01:40.944Z"
   },
   {
    "duration": 18,
    "start_time": "2021-12-20T16:01:40.970Z"
   },
   {
    "duration": 20,
    "start_time": "2021-12-20T16:01:40.990Z"
   },
   {
    "duration": 350,
    "start_time": "2021-12-20T18:39:02.989Z"
   },
   {
    "duration": 348,
    "start_time": "2021-12-20T18:39:06.177Z"
   },
   {
    "duration": 1406,
    "start_time": "2021-12-20T18:39:11.988Z"
   },
   {
    "duration": 49,
    "start_time": "2021-12-20T18:39:13.397Z"
   },
   {
    "duration": 15,
    "start_time": "2021-12-20T18:39:13.449Z"
   },
   {
    "duration": 101,
    "start_time": "2021-12-20T18:39:13.466Z"
   },
   {
    "duration": 7,
    "start_time": "2021-12-20T18:39:13.569Z"
   },
   {
    "duration": 41,
    "start_time": "2021-12-20T18:39:13.578Z"
   },
   {
    "duration": 17,
    "start_time": "2021-12-20T18:39:13.622Z"
   },
   {
    "duration": 575,
    "start_time": "2021-12-20T18:39:13.643Z"
   },
   {
    "duration": 28,
    "start_time": "2021-12-20T18:39:14.222Z"
   },
   {
    "duration": 6,
    "start_time": "2021-12-20T18:39:14.252Z"
   },
   {
    "duration": 7,
    "start_time": "2021-12-20T18:39:14.260Z"
   },
   {
    "duration": 50,
    "start_time": "2021-12-20T18:39:14.269Z"
   },
   {
    "duration": 17,
    "start_time": "2021-12-20T18:39:14.321Z"
   },
   {
    "duration": 20,
    "start_time": "2021-12-20T18:39:14.341Z"
   },
   {
    "duration": 6,
    "start_time": "2021-12-20T18:39:14.363Z"
   },
   {
    "duration": 50,
    "start_time": "2021-12-20T18:39:14.371Z"
   },
   {
    "duration": 9,
    "start_time": "2021-12-20T18:39:14.424Z"
   },
   {
    "duration": 9,
    "start_time": "2021-12-20T18:39:14.436Z"
   },
   {
    "duration": 6,
    "start_time": "2021-12-20T18:39:14.448Z"
   },
   {
    "duration": 9,
    "start_time": "2021-12-20T18:39:14.456Z"
   },
   {
    "duration": 56,
    "start_time": "2021-12-20T18:39:14.467Z"
   },
   {
    "duration": 9,
    "start_time": "2021-12-20T18:39:14.526Z"
   },
   {
    "duration": 22,
    "start_time": "2021-12-20T18:39:14.541Z"
   },
   {
    "duration": 17,
    "start_time": "2021-12-20T18:39:14.566Z"
   },
   {
    "duration": 26,
    "start_time": "2021-12-20T18:39:14.617Z"
   },
   {
    "duration": 4,
    "start_time": "2021-12-20T18:39:14.645Z"
   },
   {
    "duration": 18,
    "start_time": "2021-12-20T18:39:14.651Z"
   },
   {
    "duration": 686,
    "start_time": "2021-12-20T18:39:14.672Z"
   },
   {
    "duration": 17,
    "start_time": "2021-12-20T18:39:15.361Z"
   },
   {
    "duration": 743,
    "start_time": "2021-12-20T18:39:15.380Z"
   },
   {
    "duration": 5,
    "start_time": "2021-12-20T18:39:16.126Z"
   },
   {
    "duration": 15,
    "start_time": "2021-12-20T18:39:16.134Z"
   },
   {
    "duration": 553,
    "start_time": "2021-12-20T18:39:16.151Z"
   },
   {
    "duration": 13,
    "start_time": "2021-12-20T18:39:16.706Z"
   },
   {
    "duration": 517,
    "start_time": "2021-12-20T18:39:16.723Z"
   },
   {
    "duration": 385,
    "start_time": "2021-12-20T18:39:17.242Z"
   },
   {
    "duration": 7,
    "start_time": "2021-12-20T18:39:17.630Z"
   },
   {
    "duration": 17,
    "start_time": "2021-12-20T18:39:17.640Z"
   },
   {
    "duration": 1886,
    "start_time": "2021-12-20T18:39:17.660Z"
   },
   {
    "duration": 523,
    "start_time": "2021-12-20T18:39:19.548Z"
   },
   {
    "duration": -1467,
    "start_time": "2021-12-20T18:39:21.541Z"
   },
   {
    "duration": -1469,
    "start_time": "2021-12-20T18:39:21.545Z"
   },
   {
    "duration": -1470,
    "start_time": "2021-12-20T18:39:21.548Z"
   },
   {
    "duration": -1472,
    "start_time": "2021-12-20T18:39:21.551Z"
   },
   {
    "duration": -1473,
    "start_time": "2021-12-20T18:39:21.553Z"
   },
   {
    "duration": -1473,
    "start_time": "2021-12-20T18:39:21.555Z"
   },
   {
    "duration": -1441,
    "start_time": "2021-12-20T18:39:21.558Z"
   },
   {
    "duration": -1443,
    "start_time": "2021-12-20T18:39:21.562Z"
   },
   {
    "duration": -1444,
    "start_time": "2021-12-20T18:39:21.565Z"
   },
   {
    "duration": -1444,
    "start_time": "2021-12-20T18:39:21.567Z"
   },
   {
    "duration": -1446,
    "start_time": "2021-12-20T18:39:21.570Z"
   },
   {
    "duration": -1447,
    "start_time": "2021-12-20T18:39:21.572Z"
   },
   {
    "duration": -1448,
    "start_time": "2021-12-20T18:39:21.575Z"
   },
   {
    "duration": -1450,
    "start_time": "2021-12-20T18:39:21.578Z"
   },
   {
    "duration": -1451,
    "start_time": "2021-12-20T18:39:21.581Z"
   },
   {
    "duration": -1453,
    "start_time": "2021-12-20T18:39:21.584Z"
   },
   {
    "duration": 821,
    "start_time": "2021-12-20T18:43:07.279Z"
   },
   {
    "duration": 1037,
    "start_time": "2021-12-20T18:43:08.760Z"
   },
   {
    "duration": 394,
    "start_time": "2021-12-20T18:43:10.741Z"
   },
   {
    "duration": 379,
    "start_time": "2021-12-20T18:43:23.882Z"
   },
   {
    "duration": 383,
    "start_time": "2021-12-20T18:43:35.684Z"
   },
   {
    "duration": 788,
    "start_time": "2021-12-20T18:44:25.163Z"
   },
   {
    "duration": 517,
    "start_time": "2021-12-20T18:44:48.103Z"
   },
   {
    "duration": 1331,
    "start_time": "2021-12-20T18:45:34.960Z"
   },
   {
    "duration": 49,
    "start_time": "2021-12-20T18:45:36.294Z"
   },
   {
    "duration": 16,
    "start_time": "2021-12-20T18:45:36.347Z"
   },
   {
    "duration": 110,
    "start_time": "2021-12-20T18:45:36.366Z"
   },
   {
    "duration": 8,
    "start_time": "2021-12-20T18:45:36.478Z"
   },
   {
    "duration": 37,
    "start_time": "2021-12-20T18:45:36.488Z"
   },
   {
    "duration": 13,
    "start_time": "2021-12-20T18:45:36.527Z"
   },
   {
    "duration": 555,
    "start_time": "2021-12-20T18:45:36.543Z"
   },
   {
    "duration": 39,
    "start_time": "2021-12-20T18:45:37.102Z"
   },
   {
    "duration": 5,
    "start_time": "2021-12-20T18:45:37.144Z"
   },
   {
    "duration": 13,
    "start_time": "2021-12-20T18:45:37.151Z"
   },
   {
    "duration": 12,
    "start_time": "2021-12-20T18:45:37.167Z"
   },
   {
    "duration": 47,
    "start_time": "2021-12-20T18:45:37.181Z"
   },
   {
    "duration": 21,
    "start_time": "2021-12-20T18:45:37.233Z"
   },
   {
    "duration": 6,
    "start_time": "2021-12-20T18:45:37.256Z"
   },
   {
    "duration": 9,
    "start_time": "2021-12-20T18:45:37.264Z"
   },
   {
    "duration": 49,
    "start_time": "2021-12-20T18:45:37.276Z"
   },
   {
    "duration": 12,
    "start_time": "2021-12-20T18:45:37.331Z"
   },
   {
    "duration": 9,
    "start_time": "2021-12-20T18:45:37.345Z"
   },
   {
    "duration": 9,
    "start_time": "2021-12-20T18:45:37.356Z"
   },
   {
    "duration": 10,
    "start_time": "2021-12-20T18:45:37.367Z"
   },
   {
    "duration": 46,
    "start_time": "2021-12-20T18:45:37.379Z"
   },
   {
    "duration": 25,
    "start_time": "2021-12-20T18:45:37.428Z"
   },
   {
    "duration": 18,
    "start_time": "2021-12-20T18:45:37.457Z"
   },
   {
    "duration": 61,
    "start_time": "2021-12-20T18:45:37.478Z"
   },
   {
    "duration": 3,
    "start_time": "2021-12-20T18:45:37.542Z"
   },
   {
    "duration": 16,
    "start_time": "2021-12-20T18:45:37.551Z"
   },
   {
    "duration": 682,
    "start_time": "2021-12-20T18:45:37.570Z"
   },
   {
    "duration": 17,
    "start_time": "2021-12-20T18:45:38.255Z"
   },
   {
    "duration": 730,
    "start_time": "2021-12-20T18:45:38.274Z"
   },
   {
    "duration": 4,
    "start_time": "2021-12-20T18:45:39.006Z"
   },
   {
    "duration": 17,
    "start_time": "2021-12-20T18:45:39.018Z"
   },
   {
    "duration": 535,
    "start_time": "2021-12-20T18:45:39.040Z"
   },
   {
    "duration": 7,
    "start_time": "2021-12-20T18:45:39.578Z"
   },
   {
    "duration": 509,
    "start_time": "2021-12-20T18:45:39.587Z"
   },
   {
    "duration": 418,
    "start_time": "2021-12-20T18:45:40.099Z"
   },
   {
    "duration": 10,
    "start_time": "2021-12-20T18:45:40.520Z"
   },
   {
    "duration": 10,
    "start_time": "2021-12-20T18:45:40.536Z"
   },
   {
    "duration": 1021,
    "start_time": "2021-12-20T18:45:40.549Z"
   },
   {
    "duration": 419,
    "start_time": "2021-12-20T18:45:41.573Z"
   },
   {
    "duration": 422,
    "start_time": "2021-12-20T18:45:41.995Z"
   },
   {
    "duration": 428,
    "start_time": "2021-12-20T18:45:42.421Z"
   },
   {
    "duration": 309,
    "start_time": "2021-12-20T18:45:42.851Z"
   },
   {
    "duration": 20,
    "start_time": "2021-12-20T18:45:43.162Z"
   },
   {
    "duration": 47,
    "start_time": "2021-12-20T18:45:43.185Z"
   },
   {
    "duration": 19,
    "start_time": "2021-12-20T18:45:43.235Z"
   },
   {
    "duration": 18,
    "start_time": "2021-12-20T18:45:43.256Z"
   },
   {
    "duration": 48,
    "start_time": "2021-12-20T18:45:43.277Z"
   },
   {
    "duration": 21,
    "start_time": "2021-12-20T18:45:43.328Z"
   },
   {
    "duration": 17,
    "start_time": "2021-12-20T18:45:43.351Z"
   },
   {
    "duration": 59,
    "start_time": "2021-12-20T18:45:43.370Z"
   },
   {
    "duration": 20,
    "start_time": "2021-12-20T18:45:43.431Z"
   },
   {
    "duration": 10,
    "start_time": "2021-12-20T18:45:43.453Z"
   },
   {
    "duration": 9,
    "start_time": "2021-12-20T18:45:43.465Z"
   },
   {
    "duration": 50,
    "start_time": "2021-12-20T18:45:43.476Z"
   },
   {
    "duration": 11,
    "start_time": "2021-12-20T18:45:43.529Z"
   },
   {
    "duration": 301,
    "start_time": "2021-12-20T18:47:12.729Z"
   },
   {
    "duration": 325,
    "start_time": "2021-12-20T18:47:20.898Z"
   },
   {
    "duration": 328,
    "start_time": "2021-12-20T18:47:41.875Z"
   },
   {
    "duration": 269,
    "start_time": "2021-12-20T18:50:44.262Z"
   },
   {
    "duration": 272,
    "start_time": "2021-12-20T18:50:53.833Z"
   },
   {
    "duration": 1437,
    "start_time": "2021-12-20T18:52:09.613Z"
   },
   {
    "duration": 48,
    "start_time": "2021-12-20T18:52:11.052Z"
   },
   {
    "duration": 19,
    "start_time": "2021-12-20T18:52:11.103Z"
   },
   {
    "duration": 137,
    "start_time": "2021-12-20T18:52:11.125Z"
   },
   {
    "duration": 9,
    "start_time": "2021-12-20T18:52:11.265Z"
   },
   {
    "duration": 46,
    "start_time": "2021-12-20T18:52:11.277Z"
   },
   {
    "duration": 17,
    "start_time": "2021-12-20T18:52:11.326Z"
   },
   {
    "duration": 656,
    "start_time": "2021-12-20T18:52:11.347Z"
   },
   {
    "duration": 25,
    "start_time": "2021-12-20T18:52:12.006Z"
   },
   {
    "duration": 6,
    "start_time": "2021-12-20T18:52:12.033Z"
   },
   {
    "duration": 8,
    "start_time": "2021-12-20T18:52:12.042Z"
   },
   {
    "duration": 19,
    "start_time": "2021-12-20T18:52:12.052Z"
   },
   {
    "duration": 50,
    "start_time": "2021-12-20T18:52:12.073Z"
   },
   {
    "duration": 21,
    "start_time": "2021-12-20T18:52:12.126Z"
   },
   {
    "duration": 5,
    "start_time": "2021-12-20T18:52:12.149Z"
   },
   {
    "duration": 9,
    "start_time": "2021-12-20T18:52:12.157Z"
   },
   {
    "duration": 49,
    "start_time": "2021-12-20T18:52:12.168Z"
   },
   {
    "duration": 7,
    "start_time": "2021-12-20T18:52:12.220Z"
   },
   {
    "duration": 7,
    "start_time": "2021-12-20T18:52:12.230Z"
   },
   {
    "duration": 10,
    "start_time": "2021-12-20T18:52:12.240Z"
   },
   {
    "duration": 10,
    "start_time": "2021-12-20T18:52:12.252Z"
   },
   {
    "duration": 60,
    "start_time": "2021-12-20T18:52:12.264Z"
   },
   {
    "duration": 23,
    "start_time": "2021-12-20T18:52:12.329Z"
   },
   {
    "duration": 60,
    "start_time": "2021-12-20T18:52:12.356Z"
   },
   {
    "duration": 22,
    "start_time": "2021-12-20T18:52:12.418Z"
   },
   {
    "duration": 4,
    "start_time": "2021-12-20T18:52:12.442Z"
   },
   {
    "duration": 18,
    "start_time": "2021-12-20T18:52:12.448Z"
   },
   {
    "duration": 662,
    "start_time": "2021-12-20T18:52:12.468Z"
   },
   {
    "duration": 19,
    "start_time": "2021-12-20T18:52:13.132Z"
   },
   {
    "duration": 740,
    "start_time": "2021-12-20T18:52:13.153Z"
   },
   {
    "duration": 4,
    "start_time": "2021-12-20T18:52:13.896Z"
   },
   {
    "duration": 11,
    "start_time": "2021-12-20T18:52:13.917Z"
   },
   {
    "duration": 592,
    "start_time": "2021-12-20T18:52:13.931Z"
   },
   {
    "duration": 8,
    "start_time": "2021-12-20T18:52:14.525Z"
   },
   {
    "duration": 519,
    "start_time": "2021-12-20T18:52:14.535Z"
   },
   {
    "duration": 564,
    "start_time": "2021-12-20T18:52:15.057Z"
   },
   {
    "duration": 8,
    "start_time": "2021-12-20T18:52:15.623Z"
   },
   {
    "duration": 11,
    "start_time": "2021-12-20T18:52:15.634Z"
   },
   {
    "duration": 1212,
    "start_time": "2021-12-20T18:52:15.648Z"
   },
   {
    "duration": 386,
    "start_time": "2021-12-20T18:52:16.862Z"
   },
   {
    "duration": 400,
    "start_time": "2021-12-20T18:52:17.251Z"
   },
   {
    "duration": 414,
    "start_time": "2021-12-20T18:52:17.654Z"
   },
   {
    "duration": 296,
    "start_time": "2021-12-20T18:52:18.071Z"
   },
   {
    "duration": 330,
    "start_time": "2021-12-20T18:52:18.370Z"
   },
   {
    "duration": 28,
    "start_time": "2021-12-20T18:52:18.703Z"
   },
   {
    "duration": 23,
    "start_time": "2021-12-20T18:52:18.733Z"
   },
   {
    "duration": 19,
    "start_time": "2021-12-20T18:52:18.759Z"
   },
   {
    "duration": 51,
    "start_time": "2021-12-20T18:52:18.782Z"
   },
   {
    "duration": 19,
    "start_time": "2021-12-20T18:52:18.836Z"
   },
   {
    "duration": 20,
    "start_time": "2021-12-20T18:52:18.858Z"
   },
   {
    "duration": 55,
    "start_time": "2021-12-20T18:52:18.881Z"
   },
   {
    "duration": 25,
    "start_time": "2021-12-20T18:52:18.939Z"
   },
   {
    "duration": 55,
    "start_time": "2021-12-20T18:52:18.967Z"
   },
   {
    "duration": 13,
    "start_time": "2021-12-20T18:52:19.027Z"
   },
   {
    "duration": 8,
    "start_time": "2021-12-20T18:52:19.043Z"
   },
   {
    "duration": 12,
    "start_time": "2021-12-20T18:52:19.054Z"
   },
   {
    "duration": 50,
    "start_time": "2021-12-20T18:52:19.069Z"
   },
   {
    "duration": 1453,
    "start_time": "2021-12-20T18:53:38.224Z"
   },
   {
    "duration": 48,
    "start_time": "2021-12-20T18:53:39.679Z"
   },
   {
    "duration": 23,
    "start_time": "2021-12-20T18:53:39.731Z"
   },
   {
    "duration": 104,
    "start_time": "2021-12-20T18:53:39.757Z"
   },
   {
    "duration": 6,
    "start_time": "2021-12-20T18:53:39.864Z"
   },
   {
    "duration": 47,
    "start_time": "2021-12-20T18:53:39.873Z"
   },
   {
    "duration": 14,
    "start_time": "2021-12-20T18:53:39.923Z"
   },
   {
    "duration": 889,
    "start_time": "2021-12-20T18:53:39.941Z"
   },
   {
    "duration": 35,
    "start_time": "2021-12-20T18:53:40.833Z"
   },
   {
    "duration": 7,
    "start_time": "2021-12-20T18:53:40.870Z"
   },
   {
    "duration": 38,
    "start_time": "2021-12-20T18:53:40.880Z"
   },
   {
    "duration": 11,
    "start_time": "2021-12-20T18:53:40.921Z"
   },
   {
    "duration": 16,
    "start_time": "2021-12-20T18:53:40.935Z"
   },
   {
    "duration": 28,
    "start_time": "2021-12-20T18:53:40.953Z"
   },
   {
    "duration": 7,
    "start_time": "2021-12-20T18:53:41.018Z"
   },
   {
    "duration": 14,
    "start_time": "2021-12-20T18:53:41.028Z"
   },
   {
    "duration": 8,
    "start_time": "2021-12-20T18:53:41.045Z"
   },
   {
    "duration": 11,
    "start_time": "2021-12-20T18:53:41.056Z"
   },
   {
    "duration": 46,
    "start_time": "2021-12-20T18:53:41.070Z"
   },
   {
    "duration": 9,
    "start_time": "2021-12-20T18:53:41.119Z"
   },
   {
    "duration": 10,
    "start_time": "2021-12-20T18:53:41.131Z"
   },
   {
    "duration": 12,
    "start_time": "2021-12-20T18:53:41.144Z"
   },
   {
    "duration": 70,
    "start_time": "2021-12-20T18:53:41.164Z"
   },
   {
    "duration": 23,
    "start_time": "2021-12-20T18:53:41.239Z"
   },
   {
    "duration": 55,
    "start_time": "2021-12-20T18:53:41.264Z"
   },
   {
    "duration": 4,
    "start_time": "2021-12-20T18:53:41.322Z"
   },
   {
    "duration": 25,
    "start_time": "2021-12-20T18:53:41.329Z"
   },
   {
    "duration": 716,
    "start_time": "2021-12-20T18:53:41.357Z"
   },
   {
    "duration": 41,
    "start_time": "2021-12-20T18:53:42.076Z"
   },
   {
    "duration": 806,
    "start_time": "2021-12-20T18:53:42.120Z"
   },
   {
    "duration": 3,
    "start_time": "2021-12-20T18:53:42.930Z"
   },
   {
    "duration": 14,
    "start_time": "2021-12-20T18:53:42.937Z"
   },
   {
    "duration": 627,
    "start_time": "2021-12-20T18:53:42.956Z"
   },
   {
    "duration": 12,
    "start_time": "2021-12-20T18:53:43.586Z"
   },
   {
    "duration": 548,
    "start_time": "2021-12-20T18:53:43.601Z"
   },
   {
    "duration": 453,
    "start_time": "2021-12-20T18:53:44.152Z"
   },
   {
    "duration": 13,
    "start_time": "2021-12-20T18:53:44.607Z"
   },
   {
    "duration": 12,
    "start_time": "2021-12-20T18:53:44.624Z"
   },
   {
    "duration": 1968,
    "start_time": "2021-12-20T18:53:44.638Z"
   },
   {
    "duration": 589,
    "start_time": "2021-12-20T18:53:46.610Z"
   },
   {
    "duration": 599,
    "start_time": "2021-12-20T18:53:47.202Z"
   },
   {
    "duration": 503,
    "start_time": "2021-12-20T18:53:47.804Z"
   },
   {
    "duration": 443,
    "start_time": "2021-12-20T18:53:48.309Z"
   },
   {
    "duration": 425,
    "start_time": "2021-12-20T18:53:48.754Z"
   },
   {
    "duration": 38,
    "start_time": "2021-12-20T18:53:49.181Z"
   },
   {
    "duration": 44,
    "start_time": "2021-12-20T18:53:49.221Z"
   },
   {
    "duration": 24,
    "start_time": "2021-12-20T18:53:49.270Z"
   },
   {
    "duration": 39,
    "start_time": "2021-12-20T18:53:49.298Z"
   },
   {
    "duration": 27,
    "start_time": "2021-12-20T18:53:49.341Z"
   },
   {
    "duration": 47,
    "start_time": "2021-12-20T18:53:49.371Z"
   },
   {
    "duration": 20,
    "start_time": "2021-12-20T18:53:49.421Z"
   },
   {
    "duration": 31,
    "start_time": "2021-12-20T18:53:49.444Z"
   },
   {
    "duration": 53,
    "start_time": "2021-12-20T18:53:49.477Z"
   },
   {
    "duration": 16,
    "start_time": "2021-12-20T18:53:49.532Z"
   },
   {
    "duration": 12,
    "start_time": "2021-12-20T18:53:49.551Z"
   },
   {
    "duration": 13,
    "start_time": "2021-12-20T18:53:49.566Z"
   },
   {
    "duration": 42,
    "start_time": "2021-12-20T18:53:49.582Z"
   },
   {
    "duration": 327,
    "start_time": "2021-12-20T18:54:42.837Z"
   },
   {
    "duration": 1542,
    "start_time": "2021-12-20T18:55:47.444Z"
   },
   {
    "duration": 52,
    "start_time": "2021-12-20T18:55:48.989Z"
   },
   {
    "duration": 17,
    "start_time": "2021-12-20T18:55:49.045Z"
   },
   {
    "duration": 102,
    "start_time": "2021-12-20T18:55:49.065Z"
   },
   {
    "duration": 9,
    "start_time": "2021-12-20T18:55:49.170Z"
   },
   {
    "duration": 40,
    "start_time": "2021-12-20T18:55:49.182Z"
   },
   {
    "duration": 12,
    "start_time": "2021-12-20T18:55:49.224Z"
   },
   {
    "duration": 1092,
    "start_time": "2021-12-20T18:55:49.240Z"
   },
   {
    "duration": 26,
    "start_time": "2021-12-20T18:55:50.336Z"
   },
   {
    "duration": 6,
    "start_time": "2021-12-20T18:55:50.365Z"
   },
   {
    "duration": 45,
    "start_time": "2021-12-20T18:55:50.374Z"
   },
   {
    "duration": 11,
    "start_time": "2021-12-20T18:55:50.421Z"
   },
   {
    "duration": 26,
    "start_time": "2021-12-20T18:55:50.435Z"
   },
   {
    "duration": 53,
    "start_time": "2021-12-20T18:55:50.464Z"
   },
   {
    "duration": 7,
    "start_time": "2021-12-20T18:55:50.520Z"
   },
   {
    "duration": 10,
    "start_time": "2021-12-20T18:55:50.530Z"
   },
   {
    "duration": 6,
    "start_time": "2021-12-20T18:55:50.543Z"
   },
   {
    "duration": 11,
    "start_time": "2021-12-20T18:55:50.552Z"
   },
   {
    "duration": 32,
    "start_time": "2021-12-20T18:55:50.565Z"
   },
   {
    "duration": 29,
    "start_time": "2021-12-20T18:55:50.599Z"
   },
   {
    "duration": 9,
    "start_time": "2021-12-20T18:55:50.631Z"
   },
   {
    "duration": 9,
    "start_time": "2021-12-20T18:55:50.644Z"
   },
   {
    "duration": 64,
    "start_time": "2021-12-20T18:55:50.661Z"
   },
   {
    "duration": 17,
    "start_time": "2021-12-20T18:55:50.730Z"
   },
   {
    "duration": 21,
    "start_time": "2021-12-20T18:55:50.749Z"
   },
   {
    "duration": 4,
    "start_time": "2021-12-20T18:55:50.772Z"
   },
   {
    "duration": 56,
    "start_time": "2021-12-20T18:55:50.778Z"
   },
   {
    "duration": 674,
    "start_time": "2021-12-20T18:55:50.837Z"
   },
   {
    "duration": 18,
    "start_time": "2021-12-20T18:55:51.518Z"
   },
   {
    "duration": 770,
    "start_time": "2021-12-20T18:55:51.539Z"
   },
   {
    "duration": 3,
    "start_time": "2021-12-20T18:55:52.316Z"
   },
   {
    "duration": 18,
    "start_time": "2021-12-20T18:55:52.321Z"
   },
   {
    "duration": 530,
    "start_time": "2021-12-20T18:55:52.342Z"
   },
   {
    "duration": 6,
    "start_time": "2021-12-20T18:55:52.875Z"
   },
   {
    "duration": 498,
    "start_time": "2021-12-20T18:55:52.884Z"
   },
   {
    "duration": 492,
    "start_time": "2021-12-20T18:55:53.385Z"
   },
   {
    "duration": 12,
    "start_time": "2021-12-20T18:55:53.879Z"
   },
   {
    "duration": 22,
    "start_time": "2021-12-20T18:55:53.894Z"
   },
   {
    "duration": 1771,
    "start_time": "2021-12-20T18:55:53.919Z"
   },
   {
    "duration": 402,
    "start_time": "2021-12-20T18:55:55.692Z"
   },
   {
    "duration": 490,
    "start_time": "2021-12-20T18:55:56.097Z"
   },
   {
    "duration": 430,
    "start_time": "2021-12-20T18:55:56.590Z"
   },
   {
    "duration": 330,
    "start_time": "2021-12-20T18:55:57.023Z"
   },
   {
    "duration": 344,
    "start_time": "2021-12-20T18:55:57.356Z"
   },
   {
    "duration": 25,
    "start_time": "2021-12-20T18:55:57.703Z"
   },
   {
    "duration": 19,
    "start_time": "2021-12-20T18:55:57.731Z"
   },
   {
    "duration": 21,
    "start_time": "2021-12-20T18:55:57.753Z"
   },
   {
    "duration": 61,
    "start_time": "2021-12-20T18:55:57.777Z"
   },
   {
    "duration": 21,
    "start_time": "2021-12-20T18:55:57.841Z"
   },
   {
    "duration": 18,
    "start_time": "2021-12-20T18:55:57.865Z"
   },
   {
    "duration": 23,
    "start_time": "2021-12-20T18:55:57.919Z"
   },
   {
    "duration": 28,
    "start_time": "2021-12-20T18:55:57.945Z"
   },
   {
    "duration": 52,
    "start_time": "2021-12-20T18:55:57.975Z"
   },
   {
    "duration": 10,
    "start_time": "2021-12-20T18:55:58.029Z"
   },
   {
    "duration": 11,
    "start_time": "2021-12-20T18:55:58.041Z"
   },
   {
    "duration": 10,
    "start_time": "2021-12-20T18:55:58.055Z"
   },
   {
    "duration": 50,
    "start_time": "2021-12-20T18:55:58.068Z"
   }
  ],
  "kernelspec": {
   "display_name": "Python 3",
   "language": "python",
   "name": "python3"
  },
  "language_info": {
   "codemirror_mode": {
    "name": "ipython",
    "version": 3
   },
   "file_extension": ".py",
   "mimetype": "text/x-python",
   "name": "python",
   "nbconvert_exporter": "python",
   "pygments_lexer": "ipython3",
   "version": "3.7.6"
  },
  "toc": {
   "base_numbering": 1,
   "nav_menu": {},
   "number_sections": true,
   "sideBar": true,
   "skip_h1_title": true,
   "title_cell": "Table of Contents",
   "title_sidebar": "Contents",
   "toc_cell": false,
   "toc_position": {},
   "toc_section_display": true,
   "toc_window_display": false
  }
 },
 "nbformat": 4,
 "nbformat_minor": 2
}
